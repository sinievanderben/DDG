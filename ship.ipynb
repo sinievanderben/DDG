{
 "cells": [
  {
   "cell_type": "markdown",
   "metadata": {},
   "source": [
    "### Ship ML Experiment\n",
    "Predict gross tonnage of a ship! \n",
    "\n",
    "The approach can be divided into a few parts:\n",
    "1. Explore the dataset and prepare the data \n",
    "2. Create new features \n",
    "3. Separate the data into train, validation and test set\n",
    "4. Test feature importance \n",
    "5. Find correct algorithm \n",
    "6. Hyperparameter tuning of that algorithm \n",
    "7. Test the algorithm \n",
    "\n",
    "Bonus: ensemble of models "
   ]
  },
  {
   "cell_type": "markdown",
   "metadata": {},
   "source": [
    "But first: import all necessary packages!"
   ]
  },
  {
   "cell_type": "code",
   "execution_count": 63,
   "metadata": {},
   "outputs": [],
   "source": [
    "import sklearn as sk\n",
    "from sklearn.model_selection import train_test_split\n",
    "import pandas as pd \n",
    "import numpy as np "
   ]
  },
  {
   "cell_type": "markdown",
   "metadata": {},
   "source": [
    "## Part 1a: explore the dataset \n",
    "First I explore the dataset a bit. Although the set is small and column names and the number of rows can be seen immediately, I also get numeric values, type of the columns etc. Useful information for manual creation of features. \n",
    "\n",
    "I read in the data as a pandas dataframe. A dataframe allows for easy data exploration and data handling (column deletion, insertion etc.)"
   ]
  },
  {
   "cell_type": "code",
   "execution_count": 64,
   "metadata": {},
   "outputs": [
    {
     "data": {
      "text/plain": [
       "<bound method NDFrame.head of        Ship_name Cruise_line  Age  cabins   crew  passengers  length  \\\n",
       "0        Journey     Azamara    6    3.55   3.55        6.94    5.94   \n",
       "1          Quest     Azamara    6    3.55   3.55        6.94    5.94   \n",
       "2    Celebration    Carnival   26    7.43   6.70       14.86    7.22   \n",
       "3       Conquest    Carnival   11   14.88  19.10       29.74    9.53   \n",
       "4        Destiny    Carnival   17   13.21  10.00       26.42    8.92   \n",
       "..           ...         ...  ...     ...    ...         ...     ...   \n",
       "153       Taurus        Star   22    0.33   0.59        0.66    2.79   \n",
       "154        Virgo        Star   14    9.67  12.00       19.60    8.79   \n",
       "155       Spirit    Windstar   25    0.74   0.88        1.58    4.40   \n",
       "156         Star    Windstar   27    0.74   0.88        1.67    4.40   \n",
       "157         Surf    Windstar   23    1.56   1.80        3.08    6.17   \n",
       "\n",
       "     passenger_density  gross_tonnage  \n",
       "0                42.64         30.277  \n",
       "1                42.64         30.277  \n",
       "2                31.80         47.262  \n",
       "3                36.99        110.000  \n",
       "4                38.36        101.353  \n",
       "..                 ...            ...  \n",
       "153              50.62          3.341  \n",
       "154              39.18         76.800  \n",
       "155              33.86          5.350  \n",
       "156              32.04          5.350  \n",
       "157              47.87         14.745  \n",
       "\n",
       "[158 rows x 9 columns]>"
      ]
     },
     "execution_count": 64,
     "metadata": {},
     "output_type": "execute_result"
    }
   ],
   "source": [
    "data = pd.read_csv(\"ship_data.csv\", skiprows= 0)\n",
    "data.head"
   ]
  },
  {
   "cell_type": "code",
   "execution_count": 65,
   "metadata": {},
   "outputs": [
    {
     "data": {
      "text/html": [
       "<div>\n",
       "<style scoped>\n",
       "    .dataframe tbody tr th:only-of-type {\n",
       "        vertical-align: middle;\n",
       "    }\n",
       "\n",
       "    .dataframe tbody tr th {\n",
       "        vertical-align: top;\n",
       "    }\n",
       "\n",
       "    .dataframe thead th {\n",
       "        text-align: right;\n",
       "    }\n",
       "</style>\n",
       "<table border=\"1\" class=\"dataframe\">\n",
       "  <thead>\n",
       "    <tr style=\"text-align: right;\">\n",
       "      <th></th>\n",
       "      <th>Ship_name</th>\n",
       "      <th>Cruise_line</th>\n",
       "      <th>Age</th>\n",
       "      <th>cabins</th>\n",
       "      <th>crew</th>\n",
       "      <th>passengers</th>\n",
       "      <th>length</th>\n",
       "      <th>passenger_density</th>\n",
       "      <th>gross_tonnage</th>\n",
       "    </tr>\n",
       "  </thead>\n",
       "  <tbody>\n",
       "  </tbody>\n",
       "</table>\n",
       "</div>"
      ],
      "text/plain": [
       "Empty DataFrame\n",
       "Columns: [Ship_name, Cruise_line, Age, cabins, crew, passengers, length, passenger_density, gross_tonnage]\n",
       "Index: []"
      ]
     },
     "execution_count": 65,
     "metadata": {},
     "output_type": "execute_result"
    }
   ],
   "source": [
    "# Check for null values \n",
    "data[data.isnull().any(axis=1)]\n"
   ]
  },
  {
   "cell_type": "code",
   "execution_count": 66,
   "metadata": {},
   "outputs": [
    {
     "data": {
      "text/plain": [
       "Index(['Ship_name', 'Cruise_line', 'Age', 'cabins', 'crew', 'passengers',\n",
       "       'length', 'passenger_density', 'gross_tonnage'],\n",
       "      dtype='object')"
      ]
     },
     "execution_count": 66,
     "metadata": {},
     "output_type": "execute_result"
    }
   ],
   "source": [
    "# Column names \n",
    "data.columns"
   ]
  },
  {
   "cell_type": "code",
   "execution_count": 67,
   "metadata": {},
   "outputs": [
    {
     "name": "stdout",
     "output_type": "stream",
     "text": [
      "<class 'pandas.core.frame.DataFrame'>\n",
      "RangeIndex: 158 entries, 0 to 157\n",
      "Data columns (total 9 columns):\n",
      " #   Column             Non-Null Count  Dtype  \n",
      "---  ------             --------------  -----  \n",
      " 0   Ship_name          158 non-null    object \n",
      " 1   Cruise_line        158 non-null    object \n",
      " 2   Age                158 non-null    int64  \n",
      " 3   cabins             158 non-null    float64\n",
      " 4   crew               158 non-null    float64\n",
      " 5   passengers         158 non-null    float64\n",
      " 6   length             158 non-null    float64\n",
      " 7   passenger_density  158 non-null    float64\n",
      " 8   gross_tonnage      158 non-null    float64\n",
      "dtypes: float64(6), int64(1), object(2)\n",
      "memory usage: 11.2+ KB\n"
     ]
    }
   ],
   "source": [
    "# Information on number of columns, column types, number of rows\n",
    "data.info(verbose=True)"
   ]
  },
  {
   "cell_type": "code",
   "execution_count": 68,
   "metadata": {},
   "outputs": [
    {
     "data": {
      "text/html": [
       "<div>\n",
       "<style scoped>\n",
       "    .dataframe tbody tr th:only-of-type {\n",
       "        vertical-align: middle;\n",
       "    }\n",
       "\n",
       "    .dataframe tbody tr th {\n",
       "        vertical-align: top;\n",
       "    }\n",
       "\n",
       "    .dataframe thead th {\n",
       "        text-align: right;\n",
       "    }\n",
       "</style>\n",
       "<table border=\"1\" class=\"dataframe\">\n",
       "  <thead>\n",
       "    <tr style=\"text-align: right;\">\n",
       "      <th></th>\n",
       "      <th>Age</th>\n",
       "      <th>cabins</th>\n",
       "      <th>crew</th>\n",
       "      <th>passengers</th>\n",
       "      <th>length</th>\n",
       "      <th>passenger_density</th>\n",
       "      <th>gross_tonnage</th>\n",
       "    </tr>\n",
       "  </thead>\n",
       "  <tbody>\n",
       "    <tr>\n",
       "      <th>count</th>\n",
       "      <td>158.000000</td>\n",
       "      <td>158.000000</td>\n",
       "      <td>158.000000</td>\n",
       "      <td>158.000000</td>\n",
       "      <td>158.000000</td>\n",
       "      <td>158.000000</td>\n",
       "      <td>158.000000</td>\n",
       "    </tr>\n",
       "    <tr>\n",
       "      <th>mean</th>\n",
       "      <td>15.689873</td>\n",
       "      <td>8.830000</td>\n",
       "      <td>7.794177</td>\n",
       "      <td>18.457405</td>\n",
       "      <td>8.130633</td>\n",
       "      <td>39.900949</td>\n",
       "      <td>71.284671</td>\n",
       "    </tr>\n",
       "    <tr>\n",
       "      <th>std</th>\n",
       "      <td>7.615691</td>\n",
       "      <td>4.471417</td>\n",
       "      <td>3.503487</td>\n",
       "      <td>9.677095</td>\n",
       "      <td>1.793474</td>\n",
       "      <td>8.639217</td>\n",
       "      <td>37.229540</td>\n",
       "    </tr>\n",
       "    <tr>\n",
       "      <th>min</th>\n",
       "      <td>4.000000</td>\n",
       "      <td>0.330000</td>\n",
       "      <td>0.590000</td>\n",
       "      <td>0.660000</td>\n",
       "      <td>2.790000</td>\n",
       "      <td>17.700000</td>\n",
       "      <td>2.329000</td>\n",
       "    </tr>\n",
       "    <tr>\n",
       "      <th>25%</th>\n",
       "      <td>10.000000</td>\n",
       "      <td>6.132500</td>\n",
       "      <td>5.480000</td>\n",
       "      <td>12.535000</td>\n",
       "      <td>7.100000</td>\n",
       "      <td>34.570000</td>\n",
       "      <td>46.013000</td>\n",
       "    </tr>\n",
       "    <tr>\n",
       "      <th>50%</th>\n",
       "      <td>14.000000</td>\n",
       "      <td>9.570000</td>\n",
       "      <td>8.150000</td>\n",
       "      <td>19.500000</td>\n",
       "      <td>8.555000</td>\n",
       "      <td>39.085000</td>\n",
       "      <td>71.899000</td>\n",
       "    </tr>\n",
       "    <tr>\n",
       "      <th>75%</th>\n",
       "      <td>20.000000</td>\n",
       "      <td>10.885000</td>\n",
       "      <td>9.990000</td>\n",
       "      <td>24.845000</td>\n",
       "      <td>9.510000</td>\n",
       "      <td>44.185000</td>\n",
       "      <td>90.772500</td>\n",
       "    </tr>\n",
       "    <tr>\n",
       "      <th>max</th>\n",
       "      <td>48.000000</td>\n",
       "      <td>27.000000</td>\n",
       "      <td>21.000000</td>\n",
       "      <td>54.000000</td>\n",
       "      <td>11.820000</td>\n",
       "      <td>71.430000</td>\n",
       "      <td>220.000000</td>\n",
       "    </tr>\n",
       "  </tbody>\n",
       "</table>\n",
       "</div>"
      ],
      "text/plain": [
       "              Age      cabins        crew  passengers      length  \\\n",
       "count  158.000000  158.000000  158.000000  158.000000  158.000000   \n",
       "mean    15.689873    8.830000    7.794177   18.457405    8.130633   \n",
       "std      7.615691    4.471417    3.503487    9.677095    1.793474   \n",
       "min      4.000000    0.330000    0.590000    0.660000    2.790000   \n",
       "25%     10.000000    6.132500    5.480000   12.535000    7.100000   \n",
       "50%     14.000000    9.570000    8.150000   19.500000    8.555000   \n",
       "75%     20.000000   10.885000    9.990000   24.845000    9.510000   \n",
       "max     48.000000   27.000000   21.000000   54.000000   11.820000   \n",
       "\n",
       "       passenger_density  gross_tonnage  \n",
       "count         158.000000     158.000000  \n",
       "mean           39.900949      71.284671  \n",
       "std             8.639217      37.229540  \n",
       "min            17.700000       2.329000  \n",
       "25%            34.570000      46.013000  \n",
       "50%            39.085000      71.899000  \n",
       "75%            44.185000      90.772500  \n",
       "max            71.430000     220.000000  "
      ]
     },
     "execution_count": 68,
     "metadata": {},
     "output_type": "execute_result"
    }
   ],
   "source": [
    "# More information in numbers of the numeric columns. 'Name' is excluded \n",
    "data.describe()"
   ]
  },
  {
   "cell_type": "markdown",
   "metadata": {},
   "source": [
    "Additional information with help from the internet:\n",
    "- Lenght is in foot (roughly 0.3 meters) x 100\n",
    "- Number of passengers is x 100\n",
    "- Number of crew is x 100\n",
    "- Number of cabins is x 10 \n",
    "- Passenger density the number of people per tonnage (so actually just passengers x passenger density = gross_tonnage?)\n",
    "- Gross tonnage is x 100 "
   ]
  },
  {
   "cell_type": "markdown",
   "metadata": {},
   "source": [
    "## Part 1b: prepare the data \n",
    "Before I'll split into train, validation and test set, I have to prepare some features. As we can see in the data, there are numeric features as well as object features. \n",
    "\n",
    "One of the features is the name of the ship. Assuming the name is not of importance to the prediction of the gross tonnage, we can leave this feature out of the data. \n",
    "\n",
    "Another feature is the \"Cruise_line\". This might be an important feature, but we do not know that now. "
   ]
  },
  {
   "cell_type": "code",
   "execution_count": 69,
   "metadata": {},
   "outputs": [],
   "source": [
    "data = data.drop(columns = ['Ship_name']).copy()"
   ]
  },
  {
   "cell_type": "code",
   "execution_count": 70,
   "metadata": {},
   "outputs": [
    {
     "data": {
      "text/plain": [
       "20"
      ]
     },
     "execution_count": 70,
     "metadata": {},
     "output_type": "execute_result"
    }
   ],
   "source": [
    "data[\"Cruise_line\"].unique()\n",
    "len(data[\"Cruise_line\"].unique()) "
   ]
  },
  {
   "cell_type": "markdown",
   "metadata": {},
   "source": [
    "There are 20 unique values for \"Cruise_line\". I will make this categorical using Label Encoding. This makes it easier for the model to handle, however it will lose some form of meaning. "
   ]
  },
  {
   "cell_type": "code",
   "execution_count": 71,
   "metadata": {},
   "outputs": [],
   "source": [
    "data['Cruise_line'] = data.Cruise_line.astype('category').cat.codes\n"
   ]
  },
  {
   "cell_type": "code",
   "execution_count": 72,
   "metadata": {},
   "outputs": [
    {
     "data": {
      "text/plain": [
       "<bound method NDFrame.head of      Cruise_line  Age  cabins   crew  passengers  length  passenger_density  \\\n",
       "0              0    6    3.55   3.55        6.94    5.94              42.64   \n",
       "1              0    6    3.55   3.55        6.94    5.94              42.64   \n",
       "2              1   26    7.43   6.70       14.86    7.22              31.80   \n",
       "3              1   11   14.88  19.10       29.74    9.53              36.99   \n",
       "4              1   17   13.21  10.00       26.42    8.92              38.36   \n",
       "..           ...  ...     ...    ...         ...     ...                ...   \n",
       "153           18   22    0.33   0.59        0.66    2.79              50.62   \n",
       "154           18   14    9.67  12.00       19.60    8.79              39.18   \n",
       "155           19   25    0.74   0.88        1.58    4.40              33.86   \n",
       "156           19   27    0.74   0.88        1.67    4.40              32.04   \n",
       "157           19   23    1.56   1.80        3.08    6.17              47.87   \n",
       "\n",
       "     gross_tonnage  \n",
       "0           30.277  \n",
       "1           30.277  \n",
       "2           47.262  \n",
       "3          110.000  \n",
       "4          101.353  \n",
       "..             ...  \n",
       "153          3.341  \n",
       "154         76.800  \n",
       "155          5.350  \n",
       "156          5.350  \n",
       "157         14.745  \n",
       "\n",
       "[158 rows x 8 columns]>"
      ]
     },
     "execution_count": 72,
     "metadata": {},
     "output_type": "execute_result"
    }
   ],
   "source": [
    "data.head"
   ]
  },
  {
   "cell_type": "markdown",
   "metadata": {},
   "source": [
    "## Part 2: Create new features\n",
    "As we expect and will see later, some of the features in the dataset are important for prediction of the gross tonnage, while other features are not. \n",
    "\n",
    "To make better predictions based on features, combinations of existing features might be predictors of the gross tonnage as well. \n",
    "\n",
    "Manually engineering features to improve the prediction power of the models:\n",
    "- Passenger per cabin  \n",
    "- Cabins per length \n",
    "- Passengers per length\n",
    "- Total number of people by adding crew and passengers \n"
   ]
  },
  {
   "cell_type": "code",
   "execution_count": null,
   "metadata": {},
   "outputs": [],
   "source": [
    "# Passenger per cabin \n",
    "# Cabins x 10\n",
    "# Passengers x 100\n",
    "# Length is in foot? Foot = 0.3 meter x 100\n",
    "for i in range(158):\n",
    "    X[\"passenger_per_cabin\"] = X[\"cabins\"] / (X[\"passengers\"] / 10)\n",
    "    X[\"length_per_cabin\"] = X[\"cabins\"] / X[\"length\"]\n",
    "    X[\"passengers_per_length\"] = X[\"length\"] / X[\"passengers\"]\n",
    "    X[\"total_people\"] = X[\"crew\"] + X[\"passengers\"]\n",
    "\n",
    "X"
   ]
  },
  {
   "cell_type": "markdown",
   "metadata": {},
   "source": [
    "To decrease the influence of large differences between numbers, all data is normalised and scaled "
   ]
  },
  {
   "cell_type": "markdown",
   "metadata": {},
   "source": [
    "## Part 3: split into train, validation and test set\n",
    "Train and test split as the usual practice, and addition of the validation set for the hyperparameter tuning. I opted for a small validation and test set, as the dataset has only 157 rows with data. \n",
    "\n",
    "Even though not completely necessary in a notebook, I've created a small function to return train, val and test set easily. \n"
   ]
  },
  {
   "cell_type": "code",
   "execution_count": null,
   "metadata": {},
   "outputs": [],
   "source": [
    "def getTrainValTest(X, y, train_part, val_part):\n",
    "\n",
    "    X_train, X_rest, y_train, y_rest = train_test_split(X,y, train_size=train_part)\n",
    "\n",
    "    test_part = 1 - train_part - val_part\n",
    "\n",
    "    X_val, X_test, y_val, y_test = train_test_split(X_rest,y_rest, test_size=test_part)\n",
    "\n",
    "    return X_train, y_train, X_val, y_val, X_test, y_test\n"
   ]
  },
  {
   "cell_type": "code",
   "execution_count": null,
   "metadata": {},
   "outputs": [],
   "source": [
    "X = data.drop(columns = ['gross_tonnage']).copy()\n",
    "y = data['gross_tonnage']\n",
    "\n"
   ]
  },
  {
   "cell_type": "code",
   "execution_count": null,
   "metadata": {},
   "outputs": [],
   "source": [
    "X_train, y_train, X_val, y_val, X_test, y_test = getTrainValTest(X,y, 0.8, 0.1)"
   ]
  },
  {
   "cell_type": "markdown",
   "metadata": {},
   "source": [
    "## Part 4: find feature importance \n",
    "From the given list of columns, not all features will be equally important. Keeping all features might result in overfitting, which is why some features are not taken into account for the training of the classifier. \n",
    "\n",
    "First we try to get a baseline with 2 different models by using all features and then use a function to calculate their feature importance.\n",
    "\n",
    "I opted for Linear regression, Random Forests and Support Vector Machines to get a quick and dirty indication of the possibly important features. "
   ]
  },
  {
   "cell_type": "code",
   "execution_count": 81,
   "metadata": {},
   "outputs": [
    {
     "name": "stdout",
     "output_type": "stream",
     "text": [
      "Feature: 0, Cruise_line, Score: 0.03306483269883407\n",
      "Feature: 1, Age, Score: 0.008060357844344335\n",
      "Feature: 2, cabins, Score: 0.9677794973771989\n",
      "Feature: 3, crew, Score: 0.7912200799260186\n",
      "Feature: 4, passengers, Score: 2.529233921311938\n",
      "Feature: 5, length, Score: 4.307285987630264\n",
      "Feature: 6, passenger_density, Score: 0.9316927289174162\n"
     ]
    },
    {
     "data": {
      "image/png": "[encoded data removed]",
      "text/plain": [
       "<Figure size 432x288 with 1 Axes>"
      ]
     },
     "metadata": {
      "needs_background": "light"
     },
     "output_type": "display_data"
    }
   ],
   "source": [
    "from sklearn.linear_model import LinearRegression\n",
    "\n",
    "model = LinearRegression()\n",
    "\n",
    "model.fit(X_train, y_train)\n",
    "\n",
    "importance = model.coef_\n",
    "\n",
    "feat_names = ['Cruise_line', 'Age', 'cabins', 'crew', 'passengers',\n",
    "       'length', 'passenger_density']\n",
    "\n",
    "for i,v in enumerate(importance):\n",
    "\tprint('Feature: {0}, {1}, Score: {2}'.format(i, feat_names[i],v))\n",
    "\n",
    "pyplot.bar([x for x in range(len(importance))], importance)\n",
    "pyplot.show()"
   ]
  },
  {
   "cell_type": "markdown",
   "metadata": {},
   "source": [
    "From this we can see that feature 2,4 and 5 are important, but feature 3 and 6 are close. "
   ]
  },
  {
   "cell_type": "code",
   "execution_count": 78,
   "metadata": {},
   "outputs": [
    {
     "name": "stdout",
     "output_type": "stream",
     "text": [
      "Feature: 0, Cruise_line, Score: 0.0037798920707793064\n",
      "Feature: 1, Age, Score: 0.017210642906392574\n",
      "Feature: 2, cabins, Score: 0.15272545274361976\n",
      "Feature: 3, crew, Score: 0.05027676078836866\n",
      "Feature: 4, passengers, Score: 0.3623913011429262\n",
      "Feature: 5, length, Score: 0.4085035903837652\n",
      "Feature: 6, passenger_density, Score: 0.005112359964148329\n"
     ]
    },
    {
     "data": {
      "image/png": "[encoded data removed]",
      "text/plain": [
       "<Figure size 432x288 with 1 Axes>"
      ]
     },
     "metadata": {
      "needs_background": "light"
     },
     "output_type": "display_data"
    }
   ],
   "source": [
    "from sklearn.ensemble import RandomForestRegressor\n",
    "from matplotlib import pyplot\n",
    "\n",
    "model = RandomForestRegressor()\n",
    "\n",
    "model.fit(X_train, y_train)\n",
    "importance = model.feature_importances_\n",
    "\n",
    "feat_names = ['Cruise_line', 'Age', 'cabins', 'crew', 'passengers',\n",
    "       'length', 'passenger_density']\n",
    "\n",
    "for i,v in enumerate(importance):\n",
    "\tprint('Feature: {0}, {1}, Score: {2}'.format(i, feat_names[i],v))\n",
    "\n",
    "pyplot.bar([x for x in range(len(importance))], importance)\n",
    "pyplot.show()"
   ]
  },
  {
   "cell_type": "markdown",
   "metadata": {},
   "source": [
    "Feature 2: cabins\n",
    "Feature 4: passengers\n",
    "Feature 5: length \n",
    "These feature using a RF seem to have the highest feature importance. \n",
    "\n",
    "Cruise_line and passenger_density seem to have the lowest feature importance "
   ]
  },
  {
   "cell_type": "code",
   "execution_count": 77,
   "metadata": {},
   "outputs": [
    {
     "data": {
      "text/plain": [
       "<AxesSubplot:>"
      ]
     },
     "execution_count": 77,
     "metadata": {},
     "output_type": "execute_result"
    },
    {
     "data": {
      "image/png": "[encoded data removed]",
      "text/plain": [
       "<Figure size 432x288 with 1 Axes>"
      ]
     },
     "metadata": {
      "needs_background": "light"
     },
     "output_type": "display_data"
    }
   ],
   "source": [
    "from sklearn.svm import SVR  \n",
    "\n",
    "model = SVR(kernel = 'linear')\n",
    "\n",
    "model.fit(X_train, y_train)\n",
    "\n",
    "pd.Series(abs(model.coef_[0]), index=X_train.columns).nlargest(10).plot(kind='barh')\n",
    "\n",
    "\n"
   ]
  },
  {
   "cell_type": "markdown",
   "metadata": {},
   "source": [
    "Similar to Linear Regression and RF, passengers, cabins and length seem to have the highest correlation with the output value. "
   ]
  },
  {
   "cell_type": "markdown",
   "metadata": {},
   "source": [
    "So although the feature importance seems similar for both models, they might depend on the model used. Further analysis is necessary, but we might carefully say that number of cabins, number of passengers and length are important feature for determination of the output value, while cruise line and age are less important. \n",
    "\n",
    "It is actually quite interesting, because passenger_density * passengers gives gross tonnage, which is why I've expected that passengers and passenger_density both had higher feature importances. "
   ]
  },
  {
   "cell_type": "markdown",
   "metadata": {},
   "source": [
    "## Part 4: Create new features\n",
    "As we've seen previously, some of the features in the dataset are important for prediction of the gross tonnage, while other features are not. \n",
    "\n",
    "To make better predictions based on features, combinations of existing features might be predictors of the gross tonnage as well. \n",
    "\n",
    "Manually engineering features to improve the prediction power of the models:\n",
    "- Passenger per cabin  \n",
    "- Cabins per length \n",
    "- Passengers per length\n",
    "- Total number of people by adding crew and passengers "
   ]
  },
  {
   "cell_type": "code",
   "execution_count": 93,
   "metadata": {},
   "outputs": [
    {
     "data": {
      "text/html": [
       "<div>\n",
       "<style scoped>\n",
       "    .dataframe tbody tr th:only-of-type {\n",
       "        vertical-align: middle;\n",
       "    }\n",
       "\n",
       "    .dataframe tbody tr th {\n",
       "        vertical-align: top;\n",
       "    }\n",
       "\n",
       "    .dataframe thead th {\n",
       "        text-align: right;\n",
       "    }\n",
       "</style>\n",
       "<table border=\"1\" class=\"dataframe\">\n",
       "  <thead>\n",
       "    <tr style=\"text-align: right;\">\n",
       "      <th></th>\n",
       "      <th>Cruise_line</th>\n",
       "      <th>Age</th>\n",
       "      <th>cabins</th>\n",
       "      <th>crew</th>\n",
       "      <th>passengers</th>\n",
       "      <th>length</th>\n",
       "      <th>passenger_density</th>\n",
       "      <th>passenger_per_cabin</th>\n",
       "      <th>length_per_cabin</th>\n",
       "      <th>passengers_per_length</th>\n",
       "      <th>total_people</th>\n",
       "    </tr>\n",
       "  </thead>\n",
       "  <tbody>\n",
       "    <tr>\n",
       "      <th>0</th>\n",
       "      <td>0</td>\n",
       "      <td>6</td>\n",
       "      <td>3.55</td>\n",
       "      <td>3.55</td>\n",
       "      <td>6.94</td>\n",
       "      <td>5.94</td>\n",
       "      <td>42.64</td>\n",
       "      <td>5.115274</td>\n",
       "      <td>0.597643</td>\n",
       "      <td>0.855908</td>\n",
       "      <td>10.49</td>\n",
       "    </tr>\n",
       "    <tr>\n",
       "      <th>1</th>\n",
       "      <td>0</td>\n",
       "      <td>6</td>\n",
       "      <td>3.55</td>\n",
       "      <td>3.55</td>\n",
       "      <td>6.94</td>\n",
       "      <td>5.94</td>\n",
       "      <td>42.64</td>\n",
       "      <td>5.115274</td>\n",
       "      <td>0.597643</td>\n",
       "      <td>0.855908</td>\n",
       "      <td>10.49</td>\n",
       "    </tr>\n",
       "    <tr>\n",
       "      <th>2</th>\n",
       "      <td>1</td>\n",
       "      <td>26</td>\n",
       "      <td>7.43</td>\n",
       "      <td>6.70</td>\n",
       "      <td>14.86</td>\n",
       "      <td>7.22</td>\n",
       "      <td>31.80</td>\n",
       "      <td>5.000000</td>\n",
       "      <td>1.029086</td>\n",
       "      <td>0.485868</td>\n",
       "      <td>21.56</td>\n",
       "    </tr>\n",
       "    <tr>\n",
       "      <th>3</th>\n",
       "      <td>1</td>\n",
       "      <td>11</td>\n",
       "      <td>14.88</td>\n",
       "      <td>19.10</td>\n",
       "      <td>29.74</td>\n",
       "      <td>9.53</td>\n",
       "      <td>36.99</td>\n",
       "      <td>5.003362</td>\n",
       "      <td>1.561385</td>\n",
       "      <td>0.320444</td>\n",
       "      <td>48.84</td>\n",
       "    </tr>\n",
       "    <tr>\n",
       "      <th>4</th>\n",
       "      <td>1</td>\n",
       "      <td>17</td>\n",
       "      <td>13.21</td>\n",
       "      <td>10.00</td>\n",
       "      <td>26.42</td>\n",
       "      <td>8.92</td>\n",
       "      <td>38.36</td>\n",
       "      <td>5.000000</td>\n",
       "      <td>1.480942</td>\n",
       "      <td>0.337623</td>\n",
       "      <td>36.42</td>\n",
       "    </tr>\n",
       "    <tr>\n",
       "      <th>...</th>\n",
       "      <td>...</td>\n",
       "      <td>...</td>\n",
       "      <td>...</td>\n",
       "      <td>...</td>\n",
       "      <td>...</td>\n",
       "      <td>...</td>\n",
       "      <td>...</td>\n",
       "      <td>...</td>\n",
       "      <td>...</td>\n",
       "      <td>...</td>\n",
       "      <td>...</td>\n",
       "    </tr>\n",
       "    <tr>\n",
       "      <th>153</th>\n",
       "      <td>18</td>\n",
       "      <td>22</td>\n",
       "      <td>0.33</td>\n",
       "      <td>0.59</td>\n",
       "      <td>0.66</td>\n",
       "      <td>2.79</td>\n",
       "      <td>50.62</td>\n",
       "      <td>5.000000</td>\n",
       "      <td>0.118280</td>\n",
       "      <td>4.227273</td>\n",
       "      <td>1.25</td>\n",
       "    </tr>\n",
       "    <tr>\n",
       "      <th>154</th>\n",
       "      <td>18</td>\n",
       "      <td>14</td>\n",
       "      <td>9.67</td>\n",
       "      <td>12.00</td>\n",
       "      <td>19.60</td>\n",
       "      <td>8.79</td>\n",
       "      <td>39.18</td>\n",
       "      <td>4.933673</td>\n",
       "      <td>1.100114</td>\n",
       "      <td>0.448469</td>\n",
       "      <td>31.60</td>\n",
       "    </tr>\n",
       "    <tr>\n",
       "      <th>155</th>\n",
       "      <td>19</td>\n",
       "      <td>25</td>\n",
       "      <td>0.74</td>\n",
       "      <td>0.88</td>\n",
       "      <td>1.58</td>\n",
       "      <td>4.40</td>\n",
       "      <td>33.86</td>\n",
       "      <td>4.683544</td>\n",
       "      <td>0.168182</td>\n",
       "      <td>2.784810</td>\n",
       "      <td>2.46</td>\n",
       "    </tr>\n",
       "    <tr>\n",
       "      <th>156</th>\n",
       "      <td>19</td>\n",
       "      <td>27</td>\n",
       "      <td>0.74</td>\n",
       "      <td>0.88</td>\n",
       "      <td>1.67</td>\n",
       "      <td>4.40</td>\n",
       "      <td>32.04</td>\n",
       "      <td>4.431138</td>\n",
       "      <td>0.168182</td>\n",
       "      <td>2.634731</td>\n",
       "      <td>2.55</td>\n",
       "    </tr>\n",
       "    <tr>\n",
       "      <th>157</th>\n",
       "      <td>19</td>\n",
       "      <td>23</td>\n",
       "      <td>1.56</td>\n",
       "      <td>1.80</td>\n",
       "      <td>3.08</td>\n",
       "      <td>6.17</td>\n",
       "      <td>47.87</td>\n",
       "      <td>5.064935</td>\n",
       "      <td>0.252836</td>\n",
       "      <td>2.003247</td>\n",
       "      <td>4.88</td>\n",
       "    </tr>\n",
       "  </tbody>\n",
       "</table>\n",
       "<p>158 rows × 11 columns</p>\n",
       "</div>"
      ],
      "text/plain": [
       "     Cruise_line  Age  cabins   crew  passengers  length  passenger_density  \\\n",
       "0              0    6    3.55   3.55        6.94    5.94              42.64   \n",
       "1              0    6    3.55   3.55        6.94    5.94              42.64   \n",
       "2              1   26    7.43   6.70       14.86    7.22              31.80   \n",
       "3              1   11   14.88  19.10       29.74    9.53              36.99   \n",
       "4              1   17   13.21  10.00       26.42    8.92              38.36   \n",
       "..           ...  ...     ...    ...         ...     ...                ...   \n",
       "153           18   22    0.33   0.59        0.66    2.79              50.62   \n",
       "154           18   14    9.67  12.00       19.60    8.79              39.18   \n",
       "155           19   25    0.74   0.88        1.58    4.40              33.86   \n",
       "156           19   27    0.74   0.88        1.67    4.40              32.04   \n",
       "157           19   23    1.56   1.80        3.08    6.17              47.87   \n",
       "\n",
       "     passenger_per_cabin  length_per_cabin  passengers_per_length  \\\n",
       "0               5.115274          0.597643               0.855908   \n",
       "1               5.115274          0.597643               0.855908   \n",
       "2               5.000000          1.029086               0.485868   \n",
       "3               5.003362          1.561385               0.320444   \n",
       "4               5.000000          1.480942               0.337623   \n",
       "..                   ...               ...                    ...   \n",
       "153             5.000000          0.118280               4.227273   \n",
       "154             4.933673          1.100114               0.448469   \n",
       "155             4.683544          0.168182               2.784810   \n",
       "156             4.431138          0.168182               2.634731   \n",
       "157             5.064935          0.252836               2.003247   \n",
       "\n",
       "     total_people  \n",
       "0           10.49  \n",
       "1           10.49  \n",
       "2           21.56  \n",
       "3           48.84  \n",
       "4           36.42  \n",
       "..            ...  \n",
       "153          1.25  \n",
       "154         31.60  \n",
       "155          2.46  \n",
       "156          2.55  \n",
       "157          4.88  \n",
       "\n",
       "[158 rows x 11 columns]"
      ]
     },
     "execution_count": 93,
     "metadata": {},
     "output_type": "execute_result"
    }
   ],
   "source": [
    "# Passenger per cabin \n",
    "# Cabins x 10\n",
    "# Passengers x 100\n",
    "# Length is in foot? Foot = 0.3 meter x 100\n",
    "for i in range(158):\n",
    "    X[\"passenger_per_cabin\"] = X[\"cabins\"] / (X[\"passengers\"] / 10)\n",
    "    X[\"length_per_cabin\"] = X[\"cabins\"] / X[\"length\"]\n",
    "    X[\"passengers_per_length\"] = X[\"length\"] / X[\"passengers\"]\n",
    "    X[\"total_people\"] = X[\"crew\"] + X[\"passengers\"]\n",
    "\n",
    "X\n",
    "\n",
    "\n",
    "\n"
   ]
  },
  {
   "cell_type": "markdown",
   "metadata": {},
   "source": [
    "To decrease the influence of large differences between numbers, all data is normalised and scaled "
   ]
  },
  {
   "cell_type": "markdown",
   "metadata": {},
   "source": [
    "## Part 5: Choose algorithm \n",
    "The algorithm of choice is determined by cross validation. The models compared are Linear Regression, Random Forests and Support Vector Machine Regression. \n",
    "\n",
    "As the data might be linear, Linear Regression would work fine by the KISS principle: keep it simple stupid. Why use a complex model that is more difficult to explain if we can also use a very simple model that is easy to interpret?\n",
    "\n",
    "The Random Forest creates different Decision trees and takes the average prediction. However, it cannot extrapolate, meaning that it is not able to obtain values outside ethe train set during prediction. It is not the best model when the data is linear. \n",
    "\n",
    "The third model is Support Vector Machine Regression. Essentially it is also a linear model, but it is able to handle non-linear data by using the kernel trick. The kernel trick is able to transform the feature space into a non-linear space, while the classifier is still linear in the transformed feature space. \n",
    "\n",
    "The last model is Gradient boosting \n",
    "\n",
    "The model will be evaluated using Mean Squared Error, the coefficient of determination and accuracy. These metrics provide a baseline which we try to improve with hyperparameter tuning. \n",
    "\n"
   ]
  },
  {
   "cell_type": "markdown",
   "metadata": {},
   "source": [
    "## Part 6: Hyperparameter tuning"
   ]
  },
  {
   "cell_type": "markdown",
   "metadata": {},
   "source": [
    "## Part 7a: Testing per model"
   ]
  },
  {
   "cell_type": "markdown",
   "metadata": {},
   "source": [
    "## Part 7b: Testing ensemble of models \n",
    "\n",
    "Because different models give (possibly) different predictions, combining the base models gives a meta-model. The meta-model, or Level-1 model learns how to combine the predictions of the Level-0 models (base models) in an optimal form. The meta-model is trained on the predictions from the separate base models on an unseen data sample. "
   ]
  }
 ],
 "metadata": {
  "interpreter": {
   "hash": "810c3cea8ecd37a42d1c099cfb4835b3206c99d90dfa161a9a30fa0ee2de1394"
  },
  "kernelspec": {
   "display_name": "Python 3.10.1 64-bit ('ddg': conda)",
   "language": "python",
   "name": "python3"
  },
  "language_info": {
   "codemirror_mode": {
    "name": "ipython",
    "version": 3
   },
   "file_extension": ".py",
   "mimetype": "text/x-python",
   "name": "python",
   "nbconvert_exporter": "python",
   "pygments_lexer": "ipython3",
   "version": "3.10.1"
  },
  "orig_nbformat": 4
 },
 "nbformat": 4,
 "nbformat_minor": 2
}
