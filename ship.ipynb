{
 "cells": [
  {
   "cell_type": "markdown",
   "metadata": {},
   "source": [
    "# Ship ML Experiment\n",
    "Find the best model to predict gross tonnage of a ship! \n",
    "\n",
    "The approach can be divided into a few parts:\n",
    "1. Explore the dataset and prepare the data \n",
    "2. Create new features \n",
    "3. Separate the data into train, validation and test set\n",
    "4. Test feature importance \n",
    "5. Find correct algorithm and Hyperparameter tuning\n",
    "7. Test the algorithm \n",
    "\n"
   ]
  },
  {
   "cell_type": "markdown",
   "metadata": {},
   "source": [
    "#### But first: import all necessary packages for the start of this ML project!\n"
   ]
  },
  {
   "cell_type": "code",
   "execution_count": 478,
   "metadata": {},
   "outputs": [],
   "source": [
    "\n",
    "import pandas as pd \n",
    "import numpy as np \n",
    "from matplotlib import pyplot\n",
    "\n",
    "import sklearn as sk\n",
    "from sklearn.model_selection import train_test_split, RandomizedSearchCV\n",
    "from sklearn.feature_selection import SelectKBest, f_regression\n",
    "from sklearn.metrics import mean_absolute_error, r2_score, mean_squared_error\n",
    "from sklearn.linear_model import LinearRegression\n",
    "from sklearn.ensemble import RandomForestRegressor, GradientBoostingRegressor\n",
    "from sklearn.svm import SVR  \n",
    "\n",
    "from scipy.stats import uniform, truncnorm, randint\n",
    "from pprint import pprint"
   ]
  },
  {
   "cell_type": "markdown",
   "metadata": {},
   "source": [
    "## Part 1a: explore the dataset \n",
    "First I explore the dataset. Although the set is small and column names and the number of rows can be seen immediately, I also get numeric values, type of the columns etc. Useful information for manual creation of features. \n",
    "\n",
    "I read in the data as a pandas dataframe. A dataframe allows for easy data exploration and data handling (column deletion, insertion etc.)"
   ]
  },
  {
   "cell_type": "code",
   "execution_count": 479,
   "metadata": {},
   "outputs": [],
   "source": [
    "data = pd.read_csv(\"ship_data.csv\", skiprows= 0)"
   ]
  },
  {
   "cell_type": "code",
   "execution_count": 480,
   "metadata": {},
   "outputs": [
    {
     "data": {
      "text/html": [
       "<div>\n",
       "<style scoped>\n",
       "    .dataframe tbody tr th:only-of-type {\n",
       "        vertical-align: middle;\n",
       "    }\n",
       "\n",
       "    .dataframe tbody tr th {\n",
       "        vertical-align: top;\n",
       "    }\n",
       "\n",
       "    .dataframe thead th {\n",
       "        text-align: right;\n",
       "    }\n",
       "</style>\n",
       "<table border=\"1\" class=\"dataframe\">\n",
       "  <thead>\n",
       "    <tr style=\"text-align: right;\">\n",
       "      <th></th>\n",
       "      <th>Ship_name</th>\n",
       "      <th>Cruise_line</th>\n",
       "      <th>Age</th>\n",
       "      <th>cabins</th>\n",
       "      <th>crew</th>\n",
       "      <th>passengers</th>\n",
       "      <th>length</th>\n",
       "      <th>passenger_density</th>\n",
       "      <th>gross_tonnage</th>\n",
       "    </tr>\n",
       "  </thead>\n",
       "  <tbody>\n",
       "  </tbody>\n",
       "</table>\n",
       "</div>"
      ],
      "text/plain": [
       "Empty DataFrame\n",
       "Columns: [Ship_name, Cruise_line, Age, cabins, crew, passengers, length, passenger_density, gross_tonnage]\n",
       "Index: []"
      ]
     },
     "execution_count": 480,
     "metadata": {},
     "output_type": "execute_result"
    }
   ],
   "source": [
    "# Check for null values \n",
    "data[data.isnull().any(axis=1)]"
   ]
  },
  {
   "cell_type": "code",
   "execution_count": 481,
   "metadata": {},
   "outputs": [
    {
     "data": {
      "text/plain": [
       "Index(['Ship_name', 'Cruise_line', 'Age', 'cabins', 'crew', 'passengers',\n",
       "       'length', 'passenger_density', 'gross_tonnage'],\n",
       "      dtype='object')"
      ]
     },
     "execution_count": 481,
     "metadata": {},
     "output_type": "execute_result"
    }
   ],
   "source": [
    "# Column names \n",
    "data.columns"
   ]
  },
  {
   "cell_type": "code",
   "execution_count": 482,
   "metadata": {},
   "outputs": [
    {
     "name": "stdout",
     "output_type": "stream",
     "text": [
      "<class 'pandas.core.frame.DataFrame'>\n",
      "RangeIndex: 158 entries, 0 to 157\n",
      "Data columns (total 9 columns):\n",
      " #   Column             Non-Null Count  Dtype  \n",
      "---  ------             --------------  -----  \n",
      " 0   Ship_name          158 non-null    object \n",
      " 1   Cruise_line        158 non-null    object \n",
      " 2   Age                158 non-null    int64  \n",
      " 3   cabins             158 non-null    float64\n",
      " 4   crew               158 non-null    float64\n",
      " 5   passengers         158 non-null    float64\n",
      " 6   length             158 non-null    float64\n",
      " 7   passenger_density  158 non-null    float64\n",
      " 8   gross_tonnage      158 non-null    float64\n",
      "dtypes: float64(6), int64(1), object(2)\n",
      "memory usage: 11.2+ KB\n"
     ]
    }
   ],
   "source": [
    "# Information on number of columns, column types, number of rows\n",
    "data.info(verbose=True)"
   ]
  },
  {
   "cell_type": "code",
   "execution_count": 483,
   "metadata": {},
   "outputs": [
    {
     "data": {
      "text/html": [
       "<div>\n",
       "<style scoped>\n",
       "    .dataframe tbody tr th:only-of-type {\n",
       "        vertical-align: middle;\n",
       "    }\n",
       "\n",
       "    .dataframe tbody tr th {\n",
       "        vertical-align: top;\n",
       "    }\n",
       "\n",
       "    .dataframe thead th {\n",
       "        text-align: right;\n",
       "    }\n",
       "</style>\n",
       "<table border=\"1\" class=\"dataframe\">\n",
       "  <thead>\n",
       "    <tr style=\"text-align: right;\">\n",
       "      <th></th>\n",
       "      <th>Age</th>\n",
       "      <th>cabins</th>\n",
       "      <th>crew</th>\n",
       "      <th>passengers</th>\n",
       "      <th>length</th>\n",
       "      <th>passenger_density</th>\n",
       "      <th>gross_tonnage</th>\n",
       "    </tr>\n",
       "  </thead>\n",
       "  <tbody>\n",
       "    <tr>\n",
       "      <th>count</th>\n",
       "      <td>158.000000</td>\n",
       "      <td>158.000000</td>\n",
       "      <td>158.000000</td>\n",
       "      <td>158.000000</td>\n",
       "      <td>158.000000</td>\n",
       "      <td>158.000000</td>\n",
       "      <td>158.000000</td>\n",
       "    </tr>\n",
       "    <tr>\n",
       "      <th>mean</th>\n",
       "      <td>15.689873</td>\n",
       "      <td>8.830000</td>\n",
       "      <td>7.794177</td>\n",
       "      <td>18.457405</td>\n",
       "      <td>8.130633</td>\n",
       "      <td>39.900949</td>\n",
       "      <td>71.284671</td>\n",
       "    </tr>\n",
       "    <tr>\n",
       "      <th>std</th>\n",
       "      <td>7.615691</td>\n",
       "      <td>4.471417</td>\n",
       "      <td>3.503487</td>\n",
       "      <td>9.677095</td>\n",
       "      <td>1.793474</td>\n",
       "      <td>8.639217</td>\n",
       "      <td>37.229540</td>\n",
       "    </tr>\n",
       "    <tr>\n",
       "      <th>min</th>\n",
       "      <td>4.000000</td>\n",
       "      <td>0.330000</td>\n",
       "      <td>0.590000</td>\n",
       "      <td>0.660000</td>\n",
       "      <td>2.790000</td>\n",
       "      <td>17.700000</td>\n",
       "      <td>2.329000</td>\n",
       "    </tr>\n",
       "    <tr>\n",
       "      <th>25%</th>\n",
       "      <td>10.000000</td>\n",
       "      <td>6.132500</td>\n",
       "      <td>5.480000</td>\n",
       "      <td>12.535000</td>\n",
       "      <td>7.100000</td>\n",
       "      <td>34.570000</td>\n",
       "      <td>46.013000</td>\n",
       "    </tr>\n",
       "    <tr>\n",
       "      <th>50%</th>\n",
       "      <td>14.000000</td>\n",
       "      <td>9.570000</td>\n",
       "      <td>8.150000</td>\n",
       "      <td>19.500000</td>\n",
       "      <td>8.555000</td>\n",
       "      <td>39.085000</td>\n",
       "      <td>71.899000</td>\n",
       "    </tr>\n",
       "    <tr>\n",
       "      <th>75%</th>\n",
       "      <td>20.000000</td>\n",
       "      <td>10.885000</td>\n",
       "      <td>9.990000</td>\n",
       "      <td>24.845000</td>\n",
       "      <td>9.510000</td>\n",
       "      <td>44.185000</td>\n",
       "      <td>90.772500</td>\n",
       "    </tr>\n",
       "    <tr>\n",
       "      <th>max</th>\n",
       "      <td>48.000000</td>\n",
       "      <td>27.000000</td>\n",
       "      <td>21.000000</td>\n",
       "      <td>54.000000</td>\n",
       "      <td>11.820000</td>\n",
       "      <td>71.430000</td>\n",
       "      <td>220.000000</td>\n",
       "    </tr>\n",
       "  </tbody>\n",
       "</table>\n",
       "</div>"
      ],
      "text/plain": [
       "              Age      cabins        crew  passengers      length  \\\n",
       "count  158.000000  158.000000  158.000000  158.000000  158.000000   \n",
       "mean    15.689873    8.830000    7.794177   18.457405    8.130633   \n",
       "std      7.615691    4.471417    3.503487    9.677095    1.793474   \n",
       "min      4.000000    0.330000    0.590000    0.660000    2.790000   \n",
       "25%     10.000000    6.132500    5.480000   12.535000    7.100000   \n",
       "50%     14.000000    9.570000    8.150000   19.500000    8.555000   \n",
       "75%     20.000000   10.885000    9.990000   24.845000    9.510000   \n",
       "max     48.000000   27.000000   21.000000   54.000000   11.820000   \n",
       "\n",
       "       passenger_density  gross_tonnage  \n",
       "count         158.000000     158.000000  \n",
       "mean           39.900949      71.284671  \n",
       "std             8.639217      37.229540  \n",
       "min            17.700000       2.329000  \n",
       "25%            34.570000      46.013000  \n",
       "50%            39.085000      71.899000  \n",
       "75%            44.185000      90.772500  \n",
       "max            71.430000     220.000000  "
      ]
     },
     "execution_count": 483,
     "metadata": {},
     "output_type": "execute_result"
    }
   ],
   "source": [
    "# More information in numbers of the numeric columns. 'Name' is excluded \n",
    "data.describe()"
   ]
  },
  {
   "cell_type": "markdown",
   "metadata": {},
   "source": [
    "Additional information with help from the internet:\n",
    "- Lenght is in foot (roughly 0.3 meters) x 100\n",
    "- Number of passengers is x 100\n",
    "- Number of crew is x 100\n",
    "- Number of cabins is x 10 \n",
    "- Passenger density the number of people per tonnage (so actually just passengers x passenger density = gross_tonnage?)\n",
    "- Gross tonnage is x 100 "
   ]
  },
  {
   "cell_type": "markdown",
   "metadata": {},
   "source": [
    "## Part 1b: prepare the data \n",
    "Before I'll split into train, validation and test set, I have to prepare some features. As we can see in the data, there are numeric features as well as object features. \n",
    "\n",
    "One of the features is the name of the ship. Assuming the name is not of importance to the prediction of the gross tonnage, we can leave this feature out of the data. \n",
    "\n",
    "Another feature is the \"Cruise_line\". This might be an important feature, but we do not know that now. "
   ]
  },
  {
   "cell_type": "code",
   "execution_count": 484,
   "metadata": {},
   "outputs": [],
   "source": [
    "data = data.drop(columns = ['Ship_name']).copy()"
   ]
  },
  {
   "cell_type": "code",
   "execution_count": 485,
   "metadata": {},
   "outputs": [
    {
     "data": {
      "text/plain": [
       "20"
      ]
     },
     "execution_count": 485,
     "metadata": {},
     "output_type": "execute_result"
    }
   ],
   "source": [
    "data[\"Cruise_line\"].unique()\n",
    "len(data[\"Cruise_line\"].unique()) "
   ]
  },
  {
   "cell_type": "markdown",
   "metadata": {},
   "source": [
    "There are 20 unique values for \"Cruise_line\". Make it categorical using Label Encoding. This makes it easier for the model to handle, however it will lose some form of meaning. "
   ]
  },
  {
   "cell_type": "code",
   "execution_count": 486,
   "metadata": {},
   "outputs": [],
   "source": [
    "data['Cruise_line'] = data.Cruise_line.astype('category').cat.codes\n"
   ]
  },
  {
   "cell_type": "code",
   "execution_count": 487,
   "metadata": {},
   "outputs": [
    {
     "data": {
      "text/plain": [
       "<bound method NDFrame.head of      Cruise_line  Age  cabins   crew  passengers  length  passenger_density  \\\n",
       "0              0    6    3.55   3.55        6.94    5.94              42.64   \n",
       "1              0    6    3.55   3.55        6.94    5.94              42.64   \n",
       "2              1   26    7.43   6.70       14.86    7.22              31.80   \n",
       "3              1   11   14.88  19.10       29.74    9.53              36.99   \n",
       "4              1   17   13.21  10.00       26.42    8.92              38.36   \n",
       "..           ...  ...     ...    ...         ...     ...                ...   \n",
       "153           18   22    0.33   0.59        0.66    2.79              50.62   \n",
       "154           18   14    9.67  12.00       19.60    8.79              39.18   \n",
       "155           19   25    0.74   0.88        1.58    4.40              33.86   \n",
       "156           19   27    0.74   0.88        1.67    4.40              32.04   \n",
       "157           19   23    1.56   1.80        3.08    6.17              47.87   \n",
       "\n",
       "     gross_tonnage  \n",
       "0           30.277  \n",
       "1           30.277  \n",
       "2           47.262  \n",
       "3          110.000  \n",
       "4          101.353  \n",
       "..             ...  \n",
       "153          3.341  \n",
       "154         76.800  \n",
       "155          5.350  \n",
       "156          5.350  \n",
       "157         14.745  \n",
       "\n",
       "[158 rows x 8 columns]>"
      ]
     },
     "execution_count": 487,
     "metadata": {},
     "output_type": "execute_result"
    }
   ],
   "source": [
    "data.head"
   ]
  },
  {
   "cell_type": "code",
   "execution_count": 488,
   "metadata": {},
   "outputs": [],
   "source": [
    "# Get X and y to start with \n",
    "X = data.drop(columns = ['gross_tonnage']).copy()\n",
    "y = data['gross_tonnage']"
   ]
  },
  {
   "cell_type": "markdown",
   "metadata": {},
   "source": [
    "## Part 2: Create new features\n",
    "As we expect and will see later, some of the features in the dataset are important for prediction of the gross tonnage, while other features are not. \n",
    "\n",
    "To make better predictions based on features, combinations of existing features might be predictors of the gross tonnage as well. \n",
    "\n",
    "Manually engineering features to improve the prediction power of the models:\n",
    "- Passenger per cabin  \n",
    "- Cabins per length \n",
    "- Passengers per length\n",
    "- Total number of people by adding crew and passengers \n"
   ]
  },
  {
   "cell_type": "code",
   "execution_count": 489,
   "metadata": {},
   "outputs": [],
   "source": [
    "# Passenger per cabin \n",
    "# Cabins x 10\n",
    "# Passengers x 100\n",
    "# Length is in foot? Foot = 0.3 meter x 100\n",
    "for i in range(158):\n",
    "    X[\"passenger_per_cabin\"] = X[\"cabins\"] / (X[\"passengers\"] / 10)\n",
    "    X[\"length_per_cabin\"] = X[\"cabins\"] / X[\"length\"]\n",
    "    X[\"passengers_per_length\"] = X[\"length\"] / X[\"passengers\"]\n",
    "    X[\"total_people\"] = X[\"crew\"] + X[\"passengers\"]"
   ]
  },
  {
   "cell_type": "code",
   "execution_count": 490,
   "metadata": {},
   "outputs": [
    {
     "data": {
      "text/plain": [
       "Index(['Cruise_line', 'Age', 'cabins', 'crew', 'passengers', 'length',\n",
       "       'passenger_density', 'passenger_per_cabin', 'length_per_cabin',\n",
       "       'passengers_per_length', 'total_people'],\n",
       "      dtype='object')"
      ]
     },
     "execution_count": 490,
     "metadata": {},
     "output_type": "execute_result"
    }
   ],
   "source": [
    "X.columns"
   ]
  },
  {
   "cell_type": "markdown",
   "metadata": {},
   "source": [
    "## Part 3: split into train, validation and test set\n",
    "Train and test split as the usual practice, and addition of the validation set for the hyperparameter tuning. I opted for a small validation and test set, as the dataset has only 157 rows with data. \n",
    "\n",
    "Even though not completely necessary in a notebook, I've created a small function to return train, val and test set easily. \n"
   ]
  },
  {
   "cell_type": "code",
   "execution_count": 526,
   "metadata": {},
   "outputs": [],
   "source": [
    "def getTrainValTest(X, y, train_part, val_part):\n",
    "\n",
    "    X_train, X_rest, y_train, y_rest = train_test_split(X,y, train_size=train_part, random_state = 1)\n",
    "\n",
    "    test_part = 1 - train_part - val_part\n",
    "\n",
    "    X_val, X_test, y_val, y_test = train_test_split(X_rest,y_rest, test_size=test_part, random_state = 1)\n",
    "\n",
    "    return X_train, y_train, X_val, y_val, X_test, y_test\n"
   ]
  },
  {
   "cell_type": "code",
   "execution_count": 527,
   "metadata": {},
   "outputs": [],
   "source": [
    "X_train, y_train, X_val, y_val, X_test, y_test = getTrainValTest(X,y, 0.8, 0.1)"
   ]
  },
  {
   "cell_type": "markdown",
   "metadata": {},
   "source": [
    "## Part 4: find feature importance \n",
    "From the given list of columns, not all features will be equally important. Keeping all features might result in overfitting, which is why some features are not taken into account for the training of the classifier. \n",
    "\n",
    "First we try to get a baseline with 2 different models by using all features and then use a function to calculate their feature importance.\n",
    "\n",
    "I opted for Linear regression, Random Forests and Support Vector Machines to get a quick and dirty indication of the possibly important features. "
   ]
  },
  {
   "cell_type": "code",
   "execution_count": 528,
   "metadata": {},
   "outputs": [],
   "source": [
    "feat_names = ['Cruise_line', 'Age', 'cabins', 'crew', 'passengers', 'length',\n",
    "       'passenger_density', 'passenger_per_cabin', 'length_per_cabin',\n",
    "       'passengers_per_length', 'total_people']"
   ]
  },
  {
   "cell_type": "code",
   "execution_count": 529,
   "metadata": {},
   "outputs": [
    {
     "name": "stdout",
     "output_type": "stream",
     "text": [
      "Feature: 0, Cruise_line, Score: -0.1086198878634815\n",
      "Feature: 1, Age, Score: -0.11745182944880206\n",
      "Feature: 2, cabins, Score: 7.5036533879831655\n",
      "Feature: 3, crew, Score: 19807141590031.48\n",
      "Feature: 4, passengers, Score: 19807141590031.6\n",
      "Feature: 5, length, Score: 2.7103895033244845\n",
      "Feature: 6, passenger_density, Score: 0.7287401897728549\n",
      "Feature: 7, passenger_per_cabin, Score: -4.988840659451289\n",
      "Feature: 8, length_per_cabin, Score: -34.7554516125747\n",
      "Feature: 9, passengers_per_length, Score: -1.7858077153844263\n",
      "Feature: 10, total_people, Score: -19807141590030.723\n"
     ]
    },
    {
     "data": {
      "image/png": "[encoded data removed]",
      "text/plain": [
       "<Figure size 432x288 with 1 Axes>"
      ]
     },
     "metadata": {
      "needs_background": "light"
     },
     "output_type": "display_data"
    }
   ],
   "source": [
    "model = LinearRegression()\n",
    "\n",
    "model.fit(X_train, y_train)\n",
    "\n",
    "importance = model.coef_\n",
    "\n",
    "for i,v in enumerate(importance):\n",
    "\tprint('Feature: {0}, {1}, Score: {2}'.format(i, feat_names[i],v))\n",
    "\n",
    "pyplot.bar([x for x in range(len(importance))], importance)\n",
    "pyplot.show()"
   ]
  },
  {
   "cell_type": "markdown",
   "metadata": {},
   "source": [
    "From this we can see that feature 2,5, 7 and 8 are important, as they get more diverse coefficients "
   ]
  },
  {
   "cell_type": "code",
   "execution_count": 530,
   "metadata": {},
   "outputs": [
    {
     "name": "stdout",
     "output_type": "stream",
     "text": [
      "Feature: 0, Cruise_line, Score: 0.0034982350481829487\n",
      "Feature: 1, Age, Score: 0.011392107648683314\n",
      "Feature: 2, cabins, Score: 0.1405249698145695\n",
      "Feature: 3, crew, Score: 0.05785834813244517\n",
      "Feature: 4, passengers, Score: 0.14398533237903202\n",
      "Feature: 5, length, Score: 0.4192761202939308\n",
      "Feature: 6, passenger_density, Score: 0.003172454238775755\n",
      "Feature: 7, passenger_per_cabin, Score: 0.0014745048161034203\n",
      "Feature: 8, length_per_cabin, Score: 0.030998200019601112\n",
      "Feature: 9, passengers_per_length, Score: 0.012489464784984153\n",
      "Feature: 10, total_people, Score: 0.17533026282369185\n"
     ]
    },
    {
     "data": {
      "image/png": "[encoded data removed]",
      "text/plain": [
       "<Figure size 432x288 with 1 Axes>"
      ]
     },
     "metadata": {
      "needs_background": "light"
     },
     "output_type": "display_data"
    }
   ],
   "source": [
    "model = RandomForestRegressor()\n",
    "\n",
    "model.fit(X_train, y_train)\n",
    "importance = model.feature_importances_\n",
    "\n",
    "for i,v in enumerate(importance):\n",
    "\tprint('Feature: {0}, {1}, Score: {2}'.format(i, feat_names[i],v))\n",
    "\n",
    "pyplot.bar([x for x in range(len(importance))], importance)\n",
    "pyplot.show()"
   ]
  },
  {
   "cell_type": "markdown",
   "metadata": {},
   "source": [
    "- Feature 2: cabins\n",
    "- Feature 5: length \n",
    "- Feature 10: total_people\n",
    "These feature using a RF seem to have the highest feature importance. Passenger_per_cabin and passenger_density seem to have the lowest feature importance "
   ]
  },
  {
   "cell_type": "code",
   "execution_count": 531,
   "metadata": {},
   "outputs": [
    {
     "name": "stdout",
     "output_type": "stream",
     "text": [
      "Feature: 0, Cruise_line, Score: 0.0005624678693677637\n",
      "Feature: 1, Age, Score: 0.006335105496716475\n",
      "Feature: 2, cabins, Score: 0.026112925313176733\n",
      "Feature: 3, crew, Score: 0.061858418629336505\n",
      "Feature: 4, passengers, Score: 0.007704218299280205\n",
      "Feature: 5, length, Score: 0.77372614382642\n",
      "Feature: 6, passenger_density, Score: 0.005941583478853064\n",
      "Feature: 7, passenger_per_cabin, Score: 0.00021919778030905304\n",
      "Feature: 8, length_per_cabin, Score: 0.027159277958458346\n",
      "Feature: 9, passengers_per_length, Score: 0.0015062336837627338\n",
      "Feature: 10, total_people, Score: 0.08887442766431897\n"
     ]
    },
    {
     "data": {
      "image/png": "[encoded data removed]",
      "text/plain": [
       "<Figure size 432x288 with 1 Axes>"
      ]
     },
     "metadata": {
      "needs_background": "light"
     },
     "output_type": "display_data"
    }
   ],
   "source": [
    "model = GradientBoostingRegressor()\n",
    "\n",
    "model.fit(X_train, y_train)\n",
    "importance = model.feature_importances_\n",
    "\n",
    "for i,v in enumerate(importance):\n",
    "\tprint('Feature: {0}, {1}, Score: {2}'.format(i, feat_names[i],v))\n",
    "\n",
    "pyplot.bar([x for x in range(len(importance))], importance)\n",
    "pyplot.show()"
   ]
  },
  {
   "cell_type": "markdown",
   "metadata": {},
   "source": [
    "In the case of the GB, feature 4, 5 and 10 are important, which are \"passengers, \"length\" and \"total_people\". "
   ]
  },
  {
   "cell_type": "markdown",
   "metadata": {},
   "source": [
    "So the features that we need to watch are \"cabins\", \"length\", as well as a feature that includes people (crew, passengers)\n",
    "\n",
    "##### NOTE: \n",
    "It is actually quite interesting, because passenger_density * passengers gives gross tonnage, which is why I've expected that passengers and passenger_density both had higher feature importances. "
   ]
  },
  {
   "cell_type": "markdown",
   "metadata": {},
   "source": [
    "#### Features: to stay or to go?\n",
    "As the name of the ship does not really matter for the classification (well, maybe it does after extensive search of keywords?), we can leave out this column. A similar thing can be said about Age. "
   ]
  },
  {
   "cell_type": "markdown",
   "metadata": {},
   "source": [
    "We try automatic selection of features using a Linear Regression classifier as baseline.  Instead of the test set, we use the validation set. "
   ]
  },
  {
   "cell_type": "code",
   "execution_count": 532,
   "metadata": {},
   "outputs": [],
   "source": [
    "def select_features(X_train, y_train, X_val, number):\n",
    "\tfs = SelectKBest(score_func=f_regression, k=number)\n",
    "\n",
    "\tfs.fit(X_train, y_train)\n",
    "\tX_train_fs = fs.transform(X_train)\n",
    "\n",
    "\tX_val_fs = fs.transform(X_val)\n",
    "\treturn X_train_fs, X_val_fs, fs"
   ]
  },
  {
   "cell_type": "code",
   "execution_count": 533,
   "metadata": {},
   "outputs": [
    {
     "name": "stdout",
     "output_type": "stream",
     "text": [
      "Linear Regression\n",
      "Best features are for number  1  are:  Index(['total_people'], dtype='object')\n",
      "RMSE: 7.844\n",
      "Best features are for number  2  are:  Index(['cabins', 'total_people'], dtype='object')\n",
      "RMSE: 8.005\n",
      "Best features are for number  3  are:  Index(['cabins', 'passengers', 'total_people'], dtype='object')\n",
      "RMSE: 7.952\n",
      "Best features are for number  4  are:  Index(['cabins', 'crew', 'passengers', 'total_people'], dtype='object')\n",
      "RMSE: 7.987\n",
      "Best features are for number  5  are:  Index(['cabins', 'crew', 'passengers', 'length', 'total_people'], dtype='object')\n",
      "RMSE: 7.512\n",
      "Best features are for number  6  are:  Index(['cabins', 'crew', 'passengers', 'length', 'length_per_cabin',\n",
      "       'total_people'],\n",
      "      dtype='object')\n",
      "RMSE: 5.504\n",
      "Best features are for number  7  are:  Index(['cabins', 'crew', 'passengers', 'length', 'length_per_cabin',\n",
      "       'passengers_per_length', 'total_people'],\n",
      "      dtype='object')\n",
      "RMSE: 5.327\n",
      "Best features are for number  8  are:  Index(['Age', 'cabins', 'crew', 'passengers', 'length', 'length_per_cabin',\n",
      "       'passengers_per_length', 'total_people'],\n",
      "      dtype='object')\n",
      "RMSE: 5.062\n",
      "Best features are for number  9  are:  Index(['Cruise_line', 'Age', 'cabins', 'crew', 'passengers', 'length',\n",
      "       'length_per_cabin', 'passengers_per_length', 'total_people'],\n",
      "      dtype='object')\n",
      "RMSE: 5.009\n",
      "Best features are for number  10  are:  Index(['Cruise_line', 'Age', 'cabins', 'crew', 'passengers', 'length',\n",
      "       'passenger_per_cabin', 'length_per_cabin', 'passengers_per_length',\n",
      "       'total_people'],\n",
      "      dtype='object')\n",
      "RMSE: 5.078\n",
      "Best features are for number  11  are:  Index(['Cruise_line', 'Age', 'cabins', 'crew', 'passengers', 'length',\n",
      "       'passenger_density', 'passenger_per_cabin', 'length_per_cabin',\n",
      "       'passengers_per_length', 'total_people'],\n",
      "      dtype='object')\n",
      "RMSE: 4.231\n"
     ]
    }
   ],
   "source": [
    "print(\"Linear Regression\")\n",
    "\n",
    "for i in range(1, 12):\n",
    "\n",
    "\tX_train_fs, X_val_fs, fs = select_features(X_train, y_train, X_val, i)\n",
    "\n",
    "\tmodel = LinearRegression()\n",
    "\tmodel.fit(X_train_fs, y_train)\n",
    "\n",
    "\tyhat = model.predict(X_val_fs)\n",
    "\n",
    "\t# Get the names of the features\n",
    "\tfilter = fs.get_support()\n",
    "\tfeatures = X_train.columns\n",
    "\n",
    "\tprint(\"Best features are for number \", i, \" are: \", features[filter])\n",
    "\trmse = mean_squared_error(y_val, yhat, squared=False)\n",
    "\tprint('RMSE: %.3f' % rmse)\n"
   ]
  },
  {
   "cell_type": "markdown",
   "metadata": {},
   "source": [
    "Best performance LR: 10 features "
   ]
  },
  {
   "cell_type": "code",
   "execution_count": 534,
   "metadata": {},
   "outputs": [
    {
     "name": "stdout",
     "output_type": "stream",
     "text": [
      "Random Forest\n",
      "Best features are for number  1  are:  Index(['total_people'], dtype='object')\n",
      "RMSE: 10.778\n",
      "Best features are for number  2  are:  Index(['cabins', 'total_people'], dtype='object')\n",
      "RMSE: 7.152\n",
      "Best features are for number  3  are:  Index(['cabins', 'passengers', 'total_people'], dtype='object')\n",
      "RMSE: 8.571\n",
      "Best features are for number  4  are:  Index(['cabins', 'crew', 'passengers', 'total_people'], dtype='object')\n",
      "RMSE: 7.163\n",
      "Best features are for number  5  are:  Index(['cabins', 'crew', 'passengers', 'length', 'total_people'], dtype='object')\n",
      "RMSE: 5.086\n",
      "Best features are for number  6  are:  Index(['cabins', 'crew', 'passengers', 'length', 'length_per_cabin',\n",
      "       'total_people'],\n",
      "      dtype='object')\n",
      "RMSE: 5.141\n",
      "Best features are for number  7  are:  Index(['cabins', 'crew', 'passengers', 'length', 'length_per_cabin',\n",
      "       'passengers_per_length', 'total_people'],\n",
      "      dtype='object')\n",
      "RMSE: 4.795\n",
      "Best features are for number  8  are:  Index(['Age', 'cabins', 'crew', 'passengers', 'length', 'length_per_cabin',\n",
      "       'passengers_per_length', 'total_people'],\n",
      "      dtype='object')\n",
      "RMSE: 5.061\n",
      "Best features are for number  9  are:  Index(['Cruise_line', 'Age', 'cabins', 'crew', 'passengers', 'length',\n",
      "       'length_per_cabin', 'passengers_per_length', 'total_people'],\n",
      "      dtype='object')\n",
      "RMSE: 5.389\n",
      "Best features are for number  10  are:  Index(['Cruise_line', 'Age', 'cabins', 'crew', 'passengers', 'length',\n",
      "       'passenger_per_cabin', 'length_per_cabin', 'passengers_per_length',\n",
      "       'total_people'],\n",
      "      dtype='object')\n",
      "RMSE: 5.024\n",
      "Best features are for number  11  are:  Index(['Cruise_line', 'Age', 'cabins', 'crew', 'passengers', 'length',\n",
      "       'passenger_density', 'passenger_per_cabin', 'length_per_cabin',\n",
      "       'passengers_per_length', 'total_people'],\n",
      "      dtype='object')\n",
      "RMSE: 5.440\n"
     ]
    }
   ],
   "source": [
    "print(\"Random Forest\")\n",
    "\n",
    "for i in range(1, 12):\n",
    "\n",
    "\tX_train_fs, X_val_fs, fs = select_features(X_train, y_train, X_val, i)\n",
    "\n",
    "\tmodel = RandomForestRegressor()\n",
    "\tmodel.fit(X_train_fs, y_train)\n",
    "\n",
    "\tyhat = model.predict(X_val_fs)\n",
    "\n",
    "\t# Get the names of the features\n",
    "\tfilter = fs.get_support()\n",
    "\tfeatures = X_train.columns\n",
    "\n",
    "\tprint(\"Best features are for number \", i, \" are: \", features[filter])\n",
    "\trmse = mean_squared_error(y_val, yhat, squared=False)\n",
    "\tprint('RMSE: %.3f' % rmse)\n",
    "\n"
   ]
  },
  {
   "cell_type": "markdown",
   "metadata": {},
   "source": [
    "Best performance RF: 7 features, followed by 6 features"
   ]
  },
  {
   "cell_type": "code",
   "execution_count": 535,
   "metadata": {},
   "outputs": [
    {
     "name": "stdout",
     "output_type": "stream",
     "text": [
      "Gradient Boosting\n",
      "Best features are for number  1  are:  Index(['total_people'], dtype='object')\n",
      "RMSE: 10.550\n",
      "Best features are for number  2  are:  Index(['cabins', 'total_people'], dtype='object')\n",
      "RMSE: 8.194\n",
      "Best features are for number  3  are:  Index(['cabins', 'passengers', 'total_people'], dtype='object')\n",
      "RMSE: 6.990\n",
      "Best features are for number  4  are:  Index(['cabins', 'crew', 'passengers', 'total_people'], dtype='object')\n",
      "RMSE: 5.588\n",
      "Best features are for number  5  are:  Index(['cabins', 'crew', 'passengers', 'length', 'total_people'], dtype='object')\n",
      "RMSE: 3.830\n",
      "Best features are for number  6  are:  Index(['cabins', 'crew', 'passengers', 'length', 'length_per_cabin',\n",
      "       'total_people'],\n",
      "      dtype='object')\n",
      "RMSE: 3.872\n",
      "Best features are for number  7  are:  Index(['cabins', 'crew', 'passengers', 'length', 'length_per_cabin',\n",
      "       'passengers_per_length', 'total_people'],\n",
      "      dtype='object')\n",
      "RMSE: 3.854\n",
      "Best features are for number  8  are:  Index(['Age', 'cabins', 'crew', 'passengers', 'length', 'length_per_cabin',\n",
      "       'passengers_per_length', 'total_people'],\n",
      "      dtype='object')\n",
      "RMSE: 3.611\n",
      "Best features are for number  9  are:  Index(['Cruise_line', 'Age', 'cabins', 'crew', 'passengers', 'length',\n",
      "       'length_per_cabin', 'passengers_per_length', 'total_people'],\n",
      "      dtype='object')\n",
      "RMSE: 3.648\n",
      "Best features are for number  10  are:  Index(['Cruise_line', 'Age', 'cabins', 'crew', 'passengers', 'length',\n",
      "       'passenger_per_cabin', 'length_per_cabin', 'passengers_per_length',\n",
      "       'total_people'],\n",
      "      dtype='object')\n",
      "RMSE: 3.484\n",
      "Best features are for number  11  are:  Index(['Cruise_line', 'Age', 'cabins', 'crew', 'passengers', 'length',\n",
      "       'passenger_density', 'passenger_per_cabin', 'length_per_cabin',\n",
      "       'passengers_per_length', 'total_people'],\n",
      "      dtype='object')\n",
      "RMSE: 3.390\n"
     ]
    }
   ],
   "source": [
    "print(\"Gradient Boosting\")\n",
    "\n",
    "for i in range(1, 12):\n",
    "\n",
    "\tX_train_fs, X_val_fs, fs = select_features(X_train, y_train, X_val, i)\n",
    "\n",
    "\tmodel = GradientBoostingRegressor()\n",
    "\tmodel.fit(X_train_fs, y_train)\n",
    "\n",
    "\tyhat = model.predict(X_val_fs)\n",
    "\n",
    "\t# Get the names of the features\n",
    "\tfilter = fs.get_support()\n",
    "\tfeatures = X_train.columns\n",
    "\n",
    "\tprint(\"Best features are for number \", i, \" are: \", features[filter])\n",
    "\trmse = mean_squared_error(y_val, yhat, squared=False)\n",
    "\tprint('RMSE: %.3f' % rmse)"
   ]
  },
  {
   "cell_type": "markdown",
   "metadata": {},
   "source": [
    "Best performance GB: 4 features, followed by 11 features. "
   ]
  },
  {
   "cell_type": "markdown",
   "metadata": {},
   "source": [
    "So all models perform better with a different subset of features. RF and GB with a lower number of features, LR with a higher number of features. "
   ]
  },
  {
   "cell_type": "markdown",
   "metadata": {},
   "source": [
    "### Manual subset testing\n",
    "To explore the features further, I tried manual feature combinations. \n",
    "\n",
    "- Exclude Age and Cruiseline\n",
    "- Exclude passenger_per_length and passengers\n",
    "- Exclude crew and length_per_cabin \n",
    "\n",
    "I tried these removals. The first one I based on the earlier investigation using the importance of the models tried. The last four are features that were already embedded in other features (passengers and crew can be found in total_people) and they also scored low on the feature importance. \n"
   ]
  },
  {
   "cell_type": "code",
   "execution_count": 536,
   "metadata": {},
   "outputs": [
    {
     "name": "stdout",
     "output_type": "stream",
     "text": [
      "Linear regression\n",
      "MAE LR: 3.165\n",
      "R2 LR: 0.984\n",
      "RMSE LR: 4.231\n",
      "Random forest\n",
      "MAE RF: 3.022\n",
      "R2 RF: 0.980\n",
      "RMSE RF: 4.854\n",
      "Gradient Boosting\n",
      "MAE GB: 2.187\n",
      "R2 GB: 0.990\n",
      "RMSE GB: 3.331\n"
     ]
    }
   ],
   "source": [
    "# Baseline\n",
    "\n",
    "print(\"Linear regression\")\n",
    "# Linear Regression \n",
    "model = LinearRegression()\n",
    "model.fit(X_train, y_train)\n",
    "\n",
    "yhat = model.predict(X_val)\n",
    "\n",
    "mae = mean_absolute_error(y_val, yhat)\n",
    "r2 = r2_score(y_val, yhat)\n",
    "rmse = mean_squared_error(y_val, yhat, squared=False)\n",
    "print('MAE LR: %.3f' % mae)\n",
    "print('R2 LR: %.3f' % r2)\n",
    "print('RMSE LR: %.3f' % rmse)\n",
    "\n",
    "print(\"Random forest\")\n",
    "# Random Forest\n",
    "model2 = RandomForestRegressor()\n",
    "model2.fit(X_train, y_train)\n",
    "\n",
    "yhat2 = model2.predict(X_val)\n",
    "\n",
    "mae2 = mean_absolute_error(y_val, yhat2)\n",
    "r2_2 = r2_score(y_val, yhat2)\n",
    "rmse2 = mean_squared_error(y_val, yhat2, squared = False)\n",
    "print('MAE RF: %.3f' % mae2)\n",
    "print('R2 RF: %.3f' % r2_2)\n",
    "print('RMSE RF: %.3f' % rmse2)\n",
    "\n",
    "# Gradient Boosting \n",
    "print(\"Gradient Boosting\")\n",
    "reg = GradientBoostingRegressor(random_state=0)\n",
    "reg.fit(X_train, y_train)\n",
    "\n",
    "yhat_gb= reg.predict(X_val)\n",
    "\n",
    "mae_gb = mean_absolute_error(y_val, yhat_gb)\n",
    "r2_gb = r2_score(y_val, yhat_gb)\n",
    "rmse_gb = mean_squared_error(y_val, yhat_gb, squared = False)\n",
    "print('MAE GB: %.3f' % mae_gb)\n",
    "print('R2 GB: %.3f' % r2_gb)\n",
    "print('RMSE GB: %.3f' % rmse_gb)\n"
   ]
  },
  {
   "cell_type": "code",
   "execution_count": 537,
   "metadata": {},
   "outputs": [],
   "source": [
    "# Exclude Age and Cruiseline \n",
    "subset_X_train = X_train[['cabins', 'crew', 'passengers', 'length',\n",
    "       'passenger_density', 'passenger_per_cabin', 'length_per_cabin',\n",
    "       'passengers_per_length', 'total_people']]\n",
    "    \n",
    "subset_X_val = X_val[['cabins', 'crew', 'passengers', 'length',\n",
    "       'passenger_density', 'passenger_per_cabin', 'length_per_cabin',\n",
    "       'passengers_per_length', 'total_people']]"
   ]
  },
  {
   "cell_type": "code",
   "execution_count": 538,
   "metadata": {},
   "outputs": [
    {
     "name": "stdout",
     "output_type": "stream",
     "text": [
      "Linear Regression\n",
      "MAE LR_sub: 3.045\n",
      "R2 LR_sub: 0.984\n",
      "RMSE LR_sub: 4.055\n",
      "Random Forest\n",
      "MAE RF_sub: 3.408\n",
      "R2 RF_sub: 0.974\n",
      "RMSE RF_sub: 5.461\n",
      "Gradient boosting\n",
      "MAE GB_sub: 2.326\n",
      "R2 GB_sub: 0.989\n",
      "RMSE GB_sub: 3.573\n"
     ]
    }
   ],
   "source": [
    "# Exclude age and cruiseline\n",
    "# Linear Regression \n",
    "print('Linear Regression')\n",
    "modelsub = LinearRegression()\n",
    "modelsub.fit(subset_X_train, y_train)\n",
    "\n",
    "yhat_sub = modelsub.predict(subset_X_val)\n",
    "\n",
    "mae_sub = mean_absolute_error(y_val, yhat_sub)\n",
    "r2_sub = r2_score(y_val, yhat)\n",
    "rmse_sub = mean_squared_error(y_val, yhat_sub, squared=False)\n",
    "print('MAE LR_sub: %.3f' % mae_sub)\n",
    "print('R2 LR_sub: %.3f' % r2_sub)\n",
    "print('RMSE LR_sub: %.3f' % rmse_sub)\n",
    "\n",
    "# Random Forest\n",
    "print(\"Random Forest\")\n",
    "model2_sub = RandomForestRegressor()\n",
    "model2_sub.fit(subset_X_train, y_train)\n",
    "\n",
    "yhat2_sub = model2_sub.predict(subset_X_val)\n",
    "\n",
    "mae2_sub = mean_absolute_error(y_val, yhat2_sub)\n",
    "r2_2_sub = r2_score(y_val, yhat2_sub)\n",
    "rmse2_sub = mean_squared_error(y_val, yhat2_sub, squared = False)\n",
    "print('MAE RF_sub: %.3f' % mae2_sub)\n",
    "print('R2 RF_sub: %.3f' % r2_2_sub)\n",
    "print('RMSE RF_sub: %.3f' % rmse2_sub)\n",
    "\n",
    "# gradient boosting \n",
    "print(\"Gradient boosting\")\n",
    "reg_sub = GradientBoostingRegressor(random_state=0)\n",
    "reg_sub.fit(subset_X_train, y_train)\n",
    "\n",
    "yhat_gb_sub= reg_sub.predict(subset_X_val)\n",
    "\n",
    "mae_gb_sub = mean_absolute_error(y_val, yhat_gb_sub)\n",
    "r2_gb_sub = r2_score(y_val, yhat_gb_sub)\n",
    "rmse_gb_sub = mean_squared_error(y_val, yhat_gb_sub, squared = False)\n",
    "print('MAE GB_sub: %.3f' % mae_gb_sub)\n",
    "print('R2 GB_sub: %.3f' % r2_gb_sub)\n",
    "print('RMSE GB_sub: %.3f' % rmse_gb_sub)"
   ]
  },
  {
   "cell_type": "code",
   "execution_count": 539,
   "metadata": {},
   "outputs": [],
   "source": [
    "# Exclude passenger_per_cabin and crew \n",
    "subset_X_train = X_train[['cabins', 'passengers', 'length',\n",
    "       'passenger_density', 'length_per_cabin',\n",
    "       'passengers_per_length', 'total_people']]\n",
    "    \n",
    "subset_X_val = X_val[['cabins' , 'passengers', 'length',\n",
    "       'passenger_density','length_per_cabin',\n",
    "       'passengers_per_length', 'total_people']]"
   ]
  },
  {
   "cell_type": "code",
   "execution_count": 540,
   "metadata": {},
   "outputs": [
    {
     "name": "stdout",
     "output_type": "stream",
     "text": [
      "Linear Regression\n",
      "MAE LR_sub: 2.746\n",
      "R2 LR_sub: 0.984\n",
      "RMSE LR_sub: 3.558\n",
      "Random Forest\n",
      "MAE RF_sub: 3.398\n",
      "R2 RF_sub: 0.973\n",
      "RMSE RF_sub: 5.555\n",
      "Gradient boosting\n",
      "MAE GB_sub: 2.667\n",
      "R2 GB_sub: 0.983\n",
      "RMSE GB_sub: 4.472\n"
     ]
    }
   ],
   "source": [
    "# Exclude passenger_per_cabin and crew \n",
    "# Linear Regression \n",
    "print('Linear Regression')\n",
    "\n",
    "modelsub = LinearRegression()\n",
    "modelsub.fit(subset_X_train, y_train)\n",
    "\n",
    "yhat_sub = modelsub.predict(subset_X_val)\n",
    "\n",
    "mae_sub = mean_absolute_error(y_val, yhat_sub)\n",
    "r2_sub = r2_score(y_val, yhat)\n",
    "rmse_sub = mean_squared_error(y_val, yhat_sub, squared=False)\n",
    "print('MAE LR_sub: %.3f' % mae_sub)\n",
    "print('R2 LR_sub: %.3f' % r2_sub)\n",
    "print('RMSE LR_sub: %.3f' % rmse_sub)\n",
    "\n",
    "# Random Forest\n",
    "print(\"Random Forest\")\n",
    "\n",
    "model2_sub = RandomForestRegressor()\n",
    "model2_sub.fit(subset_X_train, y_train)\n",
    "\n",
    "yhat2_sub = model2_sub.predict(subset_X_val)\n",
    "\n",
    "mae2_sub = mean_absolute_error(y_val, yhat2_sub)\n",
    "r2_2_sub = r2_score(y_val, yhat2_sub)\n",
    "rmse2_sub = mean_squared_error(y_val, yhat2_sub, squared = False)\n",
    "print('MAE RF_sub: %.3f' % mae2_sub)\n",
    "print('R2 RF_sub: %.3f' % r2_2_sub)\n",
    "print('RMSE RF_sub: %.3f' % rmse2_sub)\n",
    "\n",
    "# gradient boosting \n",
    "print(\"Gradient boosting\")\n",
    "reg_sub = GradientBoostingRegressor(random_state=0)\n",
    "reg_sub.fit(subset_X_train, y_train)\n",
    "\n",
    "yhat_gb_sub= reg_sub.predict(subset_X_val)\n",
    "\n",
    "mae_gb_sub = mean_absolute_error(y_val, yhat_gb_sub)\n",
    "r2_gb_sub = r2_score(y_val, yhat_gb_sub)\n",
    "rmse_gb_sub = mean_squared_error(y_val, yhat_gb_sub, squared = False)\n",
    "print('MAE GB_sub: %.3f' % mae_gb_sub)\n",
    "print('R2 GB_sub: %.3f' % r2_gb_sub)\n",
    "print('RMSE GB_sub: %.3f' % rmse_gb_sub)"
   ]
  },
  {
   "cell_type": "code",
   "execution_count": 541,
   "metadata": {},
   "outputs": [],
   "source": [
    "# Exclude passenger_per_length and passengers\n",
    "subset_X_train = X_train[['cabins',  'length', 'passenger_density',\n",
    "        'length_per_cabin', 'total_people']]\n",
    "    \n",
    "subset_X_val = X_val[['cabins' ,  'length', 'passenger_density',\n",
    "       'length_per_cabin', 'total_people']]"
   ]
  },
  {
   "cell_type": "code",
   "execution_count": 542,
   "metadata": {},
   "outputs": [
    {
     "name": "stdout",
     "output_type": "stream",
     "text": [
      "Linear Regression\n",
      "MAE LR_sub: 2.866\n",
      "R2 LR_sub: 0.984\n",
      "RMSE LR_sub: 3.721\n",
      "Random Forest\n",
      "MAE RF_sub: 3.403\n",
      "R2 RF_sub: 0.973\n",
      "RMSE RF_sub: 5.616\n",
      "Gradient boosting\n",
      "MAE GB_sub: 2.682\n",
      "R2 GB_sub: 0.980\n",
      "RMSE GB_sub: 4.858\n"
     ]
    }
   ],
   "source": [
    "# Exclude passenger per length and passengers\n",
    "# Linear Regression \n",
    "print('Linear Regression')\n",
    "\n",
    "modelsub = LinearRegression()\n",
    "modelsub.fit(subset_X_train, y_train)\n",
    "\n",
    "yhat_sub = modelsub.predict(subset_X_val)\n",
    "\n",
    "mae_sub = mean_absolute_error(y_val, yhat_sub)\n",
    "r2_sub = r2_score(y_val, yhat)\n",
    "rmse_sub = mean_squared_error(y_val, yhat_sub, squared=False)\n",
    "print('MAE LR_sub: %.3f' % mae_sub)\n",
    "print('R2 LR_sub: %.3f' % r2_sub)\n",
    "print('RMSE LR_sub: %.3f' % rmse_sub)\n",
    "\n",
    "# Random Forest\n",
    "print(\"Random Forest\")\n",
    "\n",
    "model2_sub = RandomForestRegressor()\n",
    "model2_sub.fit(subset_X_train, y_train)\n",
    "\n",
    "yhat2_sub = model2_sub.predict(subset_X_val)\n",
    "\n",
    "mae2_sub = mean_absolute_error(y_val, yhat2_sub)\n",
    "r2_2_sub = r2_score(y_val, yhat2_sub)\n",
    "rmse2_sub = mean_squared_error(y_val, yhat2_sub, squared = False)\n",
    "print('MAE RF_sub: %.3f' % mae2_sub)\n",
    "print('R2 RF_sub: %.3f' % r2_2_sub)\n",
    "print('RMSE RF_sub: %.3f' % rmse2_sub)\n",
    "\n",
    "# gradient boosting \n",
    "print(\"Gradient boosting\")\n",
    "reg_sub = GradientBoostingRegressor(random_state=0)\n",
    "reg_sub.fit(subset_X_train, y_train)\n",
    "\n",
    "yhat_gb_sub= reg_sub.predict(subset_X_val)\n",
    "\n",
    "mae_gb_sub = mean_absolute_error(y_val, yhat_gb_sub)\n",
    "r2_gb_sub = r2_score(y_val, yhat_gb_sub)\n",
    "rmse_gb_sub = mean_squared_error(y_val, yhat_gb_sub, squared = False)\n",
    "print('MAE GB_sub: %.3f' % mae_gb_sub)\n",
    "print('R2 GB_sub: %.3f' % r2_gb_sub)\n",
    "print('RMSE GB_sub: %.3f' % rmse_gb_sub)"
   ]
  },
  {
   "cell_type": "markdown",
   "metadata": {},
   "source": [
    "After manual feature deletion, I have found that 5 features instead of 11 are sufficient for prediction: 'cabins',  'length', 'passenger_density', 'length_per_cabin', 'total_people'. I tried every exclusion of features with and without previously removed features. So for example, I tried inserting 'Cruise_line' and 'Age'  when I removed 'passenger_per_length'  and 'passengers'. This is my final verdict of important features: 3 already existing features and 2 manual features. \n",
    "\n",
    "As the dataset is not that large, I did not expect a large number of features. In comparison with the manual feature select of SelectKBest, other features are selected as most important for some algorithms. LR shows best performance using 10 features, GB using 4 features and RF using 6 features. I tried these features manually as well, but this shows a decrease in R2 score. As performance between the models differs and the optimal number of features differ as well using SelectKBest, I will keep the 5 manually selected features for the hyperparameter tuning of the final models as the performance seems to be better than with SelectKBest. It would be interesting to compare final performance with manual selected features vs. SelectKBest, but this would mean 3 x 2 hyperparameter tuning processes, so in this case I will keep it with the manual investigation and results. \n",
    "\n",
    "The feature passenger_density scored low in the earlier investigation of feature importance. But I tried removing this as well, but it does not work in combination with total_feature and removal of passengers. \n"
   ]
  },
  {
   "cell_type": "code",
   "execution_count": 543,
   "metadata": {},
   "outputs": [],
   "source": [
    "# Subset of X_train, X_val and X_test\n",
    "subset_X_train = X_train[['cabins',  'length', 'passenger_density',\n",
    "        'length_per_cabin', 'total_people']]\n",
    "    \n",
    "subset_X_val = X_val[['cabins' ,  'length', 'passenger_density',\n",
    "       'length_per_cabin', 'total_people']]\n",
    "\n",
    "subset_X_test = X_test[['cabins' ,  'length', 'passenger_density',\n",
    "       'length_per_cabin', 'total_people']]\n"
   ]
  },
  {
   "cell_type": "markdown",
   "metadata": {},
   "source": [
    "## Part 5: Choose algorithm for the regression task  and hyperparameter tuning\n",
    "The algorithm of choice is determined by cross validation. The models compared are Linear Regression, Random Forests and Gradient Boosting. The baseline performance is the performance of the untuned models for the feature selection, shown underneath each model. I use the RandomizedSearchCV of sklearn, because this allows for K-Fold cross validation in a randomized way. It will select at random which values for the parameters will be sampled. \n",
    "\n",
    "### Linear regression \n",
    "As the data might be linear, Linear Regression would work fine by the KISS principle: keep it simple stupid. Why use a complex model that is more difficult to explain if we can also use a very simple model that is easy to interpret?\n",
    "\n",
    "- MAE LR_sub: 3.899\n",
    "- R2 LR_sub: 0.984\n",
    "- RMSE LR_sub: 5.279\n",
    "\n",
    "I found out that I cannot tune LR. I did not know this, but then the baseline is the final model. \n",
    "\n",
    "### Random Forests:\n",
    "The Random Forest creates different Decision trees (ensemble of decision trees) and takes the average prediction. However, it cannot extrapolate, meaning that it is not able to obtain values outside ethe train set during prediction. It is not the best model when the data is linear. \n",
    "\n",
    "- MAE RF_sub: 4.625\n",
    "- R2 RF_sub: 0.916\n",
    "- RMSE RF_sub: 12.690\n",
    "\n",
    "### Gradient Boosting:\n",
    "The last model is Gradient boosting \n",
    "\n",
    "- MAE GB_sub: 4.613\n",
    "- R2 GB_sub: 0.923\n",
    "- RMSE GB_sub: 12.168\n",
    "\n",
    "### Measurements\n",
    "The model will be evaluated using Root Mean Squared Error and the R2 score. These metrics provide a baseline which we try to improve with hyperparameter tuning. "
   ]
  },
  {
   "cell_type": "code",
   "execution_count": 544,
   "metadata": {},
   "outputs": [
    {
     "name": "stdout",
     "output_type": "stream",
     "text": [
      "R2 LR: 0.988\n",
      "RMSE LR: 3.721\n"
     ]
    }
   ],
   "source": [
    "lr = LinearRegression()\n",
    "lr.fit(subset_X_train, y_train)\n",
    "\n",
    "lr_yhat = lr.predict(subset_X_val)\n",
    "\n",
    "r2_lr = r2_score(y_val, lr_yhat)\n",
    "rmse_lr = mean_squared_error(y_val, lr_yhat, squared=False)\n",
    "print('R2 LR: %.3f' % r2_lr)\n",
    "print('RMSE LR: %.3f' % rmse_lr)\n"
   ]
  },
  {
   "cell_type": "code",
   "execution_count": 545,
   "metadata": {},
   "outputs": [],
   "source": [
    "# Random Forest tuning\n",
    "\n",
    "rf = RandomForestRegressor()\n",
    "\n",
    "rf_grid = {'bootstrap': [True, False],\n",
    "               'max_depth': [10, 20, 30, 40, 50, 60, 70, 80, 90, 100, 110, None],\n",
    "               'max_features': ['auto', 'sqrt', 1,2,3,4,5],\n",
    "               'min_samples_leaf': [1, 2, 3, 4, 8, 10, ],\n",
    "               'min_samples_split': [2, 5, 10],\n",
    "               'n_estimators': [1,2,4,8,16,32,40, 50, 64,100, 120, 140, 150, 200]}"
   ]
  },
  {
   "cell_type": "code",
   "execution_count": 546,
   "metadata": {},
   "outputs": [],
   "source": [
    "# Actual search\n",
    "\n",
    "rf_search = RandomizedSearchCV(rf, rf_grid, n_iter=100, scoring = 'neg_root_mean_squared_error', cv=5, random_state = 1)\n"
   ]
  },
  {
   "cell_type": "code",
   "execution_count": 547,
   "metadata": {},
   "outputs": [],
   "source": [
    "# Fit the model to the train set \n",
    "rf_model = rf_search.fit(subset_X_train, y_train)"
   ]
  },
  {
   "cell_type": "code",
   "execution_count": 548,
   "metadata": {},
   "outputs": [
    {
     "name": "stdout",
     "output_type": "stream",
     "text": [
      "{'bootstrap': True,\n",
      " 'ccp_alpha': 0.0,\n",
      " 'criterion': 'squared_error',\n",
      " 'max_depth': None,\n",
      " 'max_features': 'auto',\n",
      " 'max_leaf_nodes': None,\n",
      " 'max_samples': None,\n",
      " 'min_impurity_decrease': 0.0,\n",
      " 'min_samples_leaf': 1,\n",
      " 'min_samples_split': 5,\n",
      " 'min_weight_fraction_leaf': 0.0,\n",
      " 'n_estimators': 200,\n",
      " 'n_jobs': None,\n",
      " 'oob_score': False,\n",
      " 'random_state': None,\n",
      " 'verbose': 0,\n",
      " 'warm_start': False}\n"
     ]
    }
   ],
   "source": [
    "# Print the parameters \n",
    "pprint(rf_model.best_estimator_.get_params())"
   ]
  },
  {
   "cell_type": "code",
   "execution_count": 549,
   "metadata": {},
   "outputs": [
    {
     "name": "stdout",
     "output_type": "stream",
     "text": [
      "R2 rf: 0.971\n",
      "RMSE rf: 5.799\n"
     ]
    }
   ],
   "source": [
    "# Test the model with the validation set \n",
    "rf_yhat = rf_model.predict(subset_X_val)\n",
    "\n",
    "r2_rf = r2_score(y_val, rf_yhat)\n",
    "rmse_rf = mean_squared_error(y_val, rf_yhat, squared = False)\n",
    "print('R2 rf: %.3f' % r2_rf)\n",
    "print('RMSE rf: %.3f' % rmse_rf)\n"
   ]
  },
  {
   "cell_type": "code",
   "execution_count": 550,
   "metadata": {},
   "outputs": [],
   "source": [
    "# GB tuning \n",
    "\n",
    "gb = GradientBoostingRegressor()\n",
    "\n",
    "gb_grid = {\n",
    "    'n_estimators':[5,50,100,250,500],\n",
    "    'max_depth':[1,3,5,7,9],\n",
    "    'learning_rate':[0.01,0.1,1],\n",
    "    'min_samples_leaf': [1, 2, 3, 4, 8, 10],\n",
    "    'min_samples_split': [2, 5, 8, 10],\n",
    "    'max_features': ['auto', 'sqrt', 'log2', None, 1,2,3,4,5]\n",
    "}"
   ]
  },
  {
   "cell_type": "code",
   "execution_count": 551,
   "metadata": {},
   "outputs": [],
   "source": [
    "# Actual search \n",
    "\n",
    "gb_search = RandomizedSearchCV(gb, gb_grid, n_iter=100, scoring = 'neg_root_mean_squared_error', cv=5, random_state = 1)\n"
   ]
  },
  {
   "cell_type": "code",
   "execution_count": 552,
   "metadata": {},
   "outputs": [],
   "source": [
    "# Fit model to train set \n",
    "gb_model = gb_search.fit(subset_X_train, y_train)"
   ]
  },
  {
   "cell_type": "code",
   "execution_count": 553,
   "metadata": {},
   "outputs": [
    {
     "name": "stdout",
     "output_type": "stream",
     "text": [
      "{'alpha': 0.9,\n",
      " 'ccp_alpha': 0.0,\n",
      " 'criterion': 'friedman_mse',\n",
      " 'init': None,\n",
      " 'learning_rate': 0.1,\n",
      " 'loss': 'squared_error',\n",
      " 'max_depth': 7,\n",
      " 'max_features': 3,\n",
      " 'max_leaf_nodes': None,\n",
      " 'min_impurity_decrease': 0.0,\n",
      " 'min_samples_leaf': 2,\n",
      " 'min_samples_split': 8,\n",
      " 'min_weight_fraction_leaf': 0.0,\n",
      " 'n_estimators': 500,\n",
      " 'n_iter_no_change': None,\n",
      " 'random_state': None,\n",
      " 'subsample': 1.0,\n",
      " 'tol': 0.0001,\n",
      " 'validation_fraction': 0.1,\n",
      " 'verbose': 0,\n",
      " 'warm_start': False}\n"
     ]
    }
   ],
   "source": [
    "# Print parameters\n",
    "pprint(gb_model.best_estimator_.get_params())"
   ]
  },
  {
   "cell_type": "code",
   "execution_count": 554,
   "metadata": {},
   "outputs": [
    {
     "name": "stdout",
     "output_type": "stream",
     "text": [
      "R2 rf: 0.979\n",
      "RMSE rf: 4.896\n"
     ]
    }
   ],
   "source": [
    "# Test the model with the validation set\n",
    "\n",
    "gb_yhat = gb_model.predict(subset_X_val)\n",
    "\n",
    "r2_gb = r2_score(y_val, gb_yhat)\n",
    "rmse_gb = mean_squared_error(y_val, gb_yhat, squared = False)\n",
    "print('R2 rf: %.3f' % r2_gb)\n",
    "print('RMSE rf: %.3f' % rmse_gb)"
   ]
  },
  {
   "cell_type": "markdown",
   "metadata": {},
   "source": [
    "## Part 7a: Testing per model"
   ]
  },
  {
   "cell_type": "code",
   "execution_count": 555,
   "metadata": {},
   "outputs": [
    {
     "name": "stdout",
     "output_type": "stream",
     "text": [
      "R2 LR: 0.981\n",
      "RMSE LR: 4.503\n"
     ]
    }
   ],
   "source": [
    "# Linear Regression\n",
    "lr_yhat_test = lr.predict(subset_X_test)\n",
    "\n",
    "r2_lr = r2_score(y_test, lr_yhat_test)\n",
    "rmse_lr = mean_squared_error(y_test, lr_yhat_test, squared=False)\n",
    "print('R2 LR: %.3f' % r2_lr)\n",
    "print('RMSE LR: %.3f' % rmse_lr)"
   ]
  },
  {
   "cell_type": "code",
   "execution_count": 556,
   "metadata": {},
   "outputs": [
    {
     "name": "stdout",
     "output_type": "stream",
     "text": [
      "R2 rf: 0.996\n",
      "RMSE rf: 1.996\n"
     ]
    }
   ],
   "source": [
    "# Random Forest\n",
    "\n",
    "rf_yhat_test = rf_model.predict(subset_X_test)\n",
    "\n",
    "r2_rf = r2_score(y_test, rf_yhat_test)\n",
    "rmse_rf = mean_squared_error(y_test, rf_yhat_test, squared = False)\n",
    "print('R2 rf: %.3f' % r2_rf)\n",
    "print('RMSE rf: %.3f' % rmse_rf)"
   ]
  },
  {
   "cell_type": "code",
   "execution_count": 557,
   "metadata": {},
   "outputs": [
    {
     "name": "stdout",
     "output_type": "stream",
     "text": [
      "R2 rf: 0.999\n",
      "RMSE rf: 0.752\n"
     ]
    }
   ],
   "source": [
    "# Gradient Boosting\n",
    "\n",
    "gb_yhat_test = gb_model.predict(subset_X_test)\n",
    "\n",
    "r2_gb = r2_score(y_test, gb_yhat_test)\n",
    "rmse_gb = mean_squared_error(y_test, gb_yhat_test, squared = False)\n",
    "print('R2 rf: %.3f' % r2_gb)\n",
    "print('RMSE rf: %.3f' % rmse_gb)"
   ]
  },
  {
   "cell_type": "markdown",
   "metadata": {},
   "source": [
    "Gradient Boosting performs optimal on predicting the gross tonnage of ships using 5 features. "
   ]
  },
  {
   "cell_type": "markdown",
   "metadata": {},
   "source": [
    "## Part 7b: compare with passengers * passenger_density \n",
    "\n",
    "As I went through the column names, I did not know what \"passenger_density was\". When I looked it up online, I got the feeling that (passenger * passenger_density) / 10 is the gross tonnage. I tried this for a few values in Excell, so I will make predictions using only these 2 and compare this against the test. "
   ]
  },
  {
   "cell_type": "code",
   "execution_count": 558,
   "metadata": {},
   "outputs": [
    {
     "name": "stdout",
     "output_type": "stream",
     "text": [
      "78     90.99420\n",
      "81     81.00032\n",
      "143    10.00064\n",
      "51     83.00250\n",
      "dtype: float64\n",
      "78     91.0\n",
      "81     81.0\n",
      "143    10.0\n",
      "51     83.0\n",
      "Name: gross_tonnage, dtype: float64\n",
      "RMSE manual: 0.003\n"
     ]
    }
   ],
   "source": [
    "y_manual_prediction = (X_test[\"passengers\"] * X_test[\"passenger_density\"])/10\n",
    "\n",
    "r2_manual = r2_score(y_test, y_manual_prediction)\n",
    "rmse_manual = mean_squared_error(y_test, y_manual_prediction, squared = False)\n",
    "\n",
    "print(y_manual_prediction)\n",
    "print(y_test)\n",
    "\n",
    "print('RMSE manual: %.3f' % rmse_manual)"
   ]
  }
 ],
 "metadata": {
  "interpreter": {
   "hash": "810c3cea8ecd37a42d1c099cfb4835b3206c99d90dfa161a9a30fa0ee2de1394"
  },
  "kernelspec": {
   "display_name": "Python 3.10.1 64-bit ('ddg': conda)",
   "language": "python",
   "name": "python3"
  },
  "language_info": {
   "codemirror_mode": {
    "name": "ipython",
    "version": 3
   },
   "file_extension": ".py",
   "mimetype": "text/x-python",
   "name": "python",
   "nbconvert_exporter": "python",
   "pygments_lexer": "ipython3",
   "version": "3.10.1"
  },
  "orig_nbformat": 4
 },
 "nbformat": 4,
 "nbformat_minor": 2
}
