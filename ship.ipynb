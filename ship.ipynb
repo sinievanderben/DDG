{
 "cells": [
  {
   "cell_type": "markdown",
   "metadata": {},
   "source": [
    "### Ship ML Experiment\n",
    "Predict gross tonnage of a ship! \n",
    "\n",
    "The approach can be divided into a few parts:\n",
    "1. Explore the dataset and prepare the data \n",
    "2. Separate the data into train, validation and test set\n",
    "3. Find feature importance\n",
    "4. Create new features\n",
    "5. Find correct algorithm \n",
    "6. Hyperparameter tuning of that algorithm \n",
    "7. Test the algorithm "
   ]
  },
  {
   "cell_type": "markdown",
   "metadata": {},
   "source": [
    "But first: import all necessary packages!"
   ]
  },
  {
   "cell_type": "code",
   "execution_count": 2,
   "metadata": {},
   "outputs": [],
   "source": [
    "import sklearn as sk\n",
    "from sklearn.model_selection import train_test_split\n",
    "import pandas as pd \n",
    "import numpy as np "
   ]
  },
  {
   "cell_type": "markdown",
   "metadata": {},
   "source": [
    "## Part 1: explore the dataset and prepare the data\n",
    "First I explore the dataset a bit. Although the set is small and column names and the number of rows can be seen immediately, I also get numeric values, type of the columns etc. Useful information for manual creation of features. \n",
    "\n",
    "I read in the data as a pandas dataframe. A dataframe allows for easy data exploration and data handling (column deletion, insertion etc.)"
   ]
  },
  {
   "cell_type": "code",
   "execution_count": 35,
   "metadata": {},
   "outputs": [
    {
     "data": {
      "text/plain": [
       "<bound method NDFrame.head of        Ship_name Cruise_line  Age  cabins   crew  passengers  length  \\\n",
       "0        Journey     Azamara    6    3.55   3.55        6.94    5.94   \n",
       "1          Quest     Azamara    6    3.55   3.55        6.94    5.94   \n",
       "2    Celebration    Carnival   26    7.43   6.70       14.86    7.22   \n",
       "3       Conquest    Carnival   11   14.88  19.10       29.74    9.53   \n",
       "4        Destiny    Carnival   17   13.21  10.00       26.42    8.92   \n",
       "..           ...         ...  ...     ...    ...         ...     ...   \n",
       "153       Taurus        Star   22    0.33   0.59        0.66    2.79   \n",
       "154        Virgo        Star   14    9.67  12.00       19.60    8.79   \n",
       "155       Spirit    Windstar   25    0.74   0.88        1.58    4.40   \n",
       "156         Star    Windstar   27    0.74   0.88        1.67    4.40   \n",
       "157         Surf    Windstar   23    1.56   1.80        3.08    6.17   \n",
       "\n",
       "     passenger_density  gross_tonnage  \n",
       "0                42.64         30.277  \n",
       "1                42.64         30.277  \n",
       "2                31.80         47.262  \n",
       "3                36.99        110.000  \n",
       "4                38.36        101.353  \n",
       "..                 ...            ...  \n",
       "153              50.62          3.341  \n",
       "154              39.18         76.800  \n",
       "155              33.86          5.350  \n",
       "156              32.04          5.350  \n",
       "157              47.87         14.745  \n",
       "\n",
       "[158 rows x 9 columns]>"
      ]
     },
     "execution_count": 35,
     "metadata": {},
     "output_type": "execute_result"
    }
   ],
   "source": [
    "data = pd.read_csv(\"ship_data.csv\", skiprows= 0)\n",
    "data.head"
   ]
  },
  {
   "cell_type": "code",
   "execution_count": 32,
   "metadata": {},
   "outputs": [
    {
     "data": {
      "text/html": [
       "<div>\n",
       "<style scoped>\n",
       "    .dataframe tbody tr th:only-of-type {\n",
       "        vertical-align: middle;\n",
       "    }\n",
       "\n",
       "    .dataframe tbody tr th {\n",
       "        vertical-align: top;\n",
       "    }\n",
       "\n",
       "    .dataframe thead th {\n",
       "        text-align: right;\n",
       "    }\n",
       "</style>\n",
       "<table border=\"1\" class=\"dataframe\">\n",
       "  <thead>\n",
       "    <tr style=\"text-align: right;\">\n",
       "      <th></th>\n",
       "      <th>Ship_name</th>\n",
       "      <th>Cruise_line</th>\n",
       "      <th>Age</th>\n",
       "      <th>cabins</th>\n",
       "      <th>crew</th>\n",
       "      <th>passengers</th>\n",
       "      <th>length</th>\n",
       "      <th>passenger_density</th>\n",
       "      <th>gross_tonnage</th>\n",
       "    </tr>\n",
       "  </thead>\n",
       "  <tbody>\n",
       "  </tbody>\n",
       "</table>\n",
       "</div>"
      ],
      "text/plain": [
       "Empty DataFrame\n",
       "Columns: [Ship_name, Cruise_line, Age, cabins, crew, passengers, length, passenger_density, gross_tonnage]\n",
       "Index: []"
      ]
     },
     "execution_count": 32,
     "metadata": {},
     "output_type": "execute_result"
    }
   ],
   "source": [
    "# Check for null values \n",
    "data[data.isnull().any(axis=1)]\n"
   ]
  },
  {
   "cell_type": "code",
   "execution_count": 5,
   "metadata": {},
   "outputs": [
    {
     "data": {
      "text/plain": [
       "Index(['Ship_name', 'Cruise_line', 'Age', 'cabins', 'crew', 'passengers',\n",
       "       'length', 'passenger_density', 'gross_tonnage'],\n",
       "      dtype='object')"
      ]
     },
     "execution_count": 5,
     "metadata": {},
     "output_type": "execute_result"
    }
   ],
   "source": [
    "# Column names \n",
    "data.columns"
   ]
  },
  {
   "cell_type": "code",
   "execution_count": 8,
   "metadata": {},
   "outputs": [
    {
     "name": "stdout",
     "output_type": "stream",
     "text": [
      "<class 'pandas.core.frame.DataFrame'>\n",
      "RangeIndex: 158 entries, 0 to 157\n",
      "Data columns (total 9 columns):\n",
      " #   Column             Non-Null Count  Dtype  \n",
      "---  ------             --------------  -----  \n",
      " 0   Ship_name          158 non-null    object \n",
      " 1   Cruise_line        158 non-null    object \n",
      " 2   Age                158 non-null    int64  \n",
      " 3   cabins             158 non-null    float64\n",
      " 4   crew               158 non-null    float64\n",
      " 5   passengers         158 non-null    float64\n",
      " 6   length             158 non-null    float64\n",
      " 7   passenger_density  158 non-null    float64\n",
      " 8   gross_tonnage      158 non-null    float64\n",
      "dtypes: float64(6), int64(1), object(2)\n",
      "memory usage: 11.2+ KB\n"
     ]
    }
   ],
   "source": [
    "# Information on number of columns, column types, number of rows\n",
    "data.info(verbose=True)"
   ]
  },
  {
   "cell_type": "code",
   "execution_count": 10,
   "metadata": {},
   "outputs": [
    {
     "data": {
      "text/html": [
       "<div>\n",
       "<style scoped>\n",
       "    .dataframe tbody tr th:only-of-type {\n",
       "        vertical-align: middle;\n",
       "    }\n",
       "\n",
       "    .dataframe tbody tr th {\n",
       "        vertical-align: top;\n",
       "    }\n",
       "\n",
       "    .dataframe thead th {\n",
       "        text-align: right;\n",
       "    }\n",
       "</style>\n",
       "<table border=\"1\" class=\"dataframe\">\n",
       "  <thead>\n",
       "    <tr style=\"text-align: right;\">\n",
       "      <th></th>\n",
       "      <th>Age</th>\n",
       "      <th>cabins</th>\n",
       "      <th>crew</th>\n",
       "      <th>passengers</th>\n",
       "      <th>length</th>\n",
       "      <th>passenger_density</th>\n",
       "      <th>gross_tonnage</th>\n",
       "    </tr>\n",
       "  </thead>\n",
       "  <tbody>\n",
       "    <tr>\n",
       "      <th>count</th>\n",
       "      <td>158.000000</td>\n",
       "      <td>158.000000</td>\n",
       "      <td>158.000000</td>\n",
       "      <td>158.000000</td>\n",
       "      <td>158.000000</td>\n",
       "      <td>158.000000</td>\n",
       "      <td>158.000000</td>\n",
       "    </tr>\n",
       "    <tr>\n",
       "      <th>mean</th>\n",
       "      <td>15.689873</td>\n",
       "      <td>8.830000</td>\n",
       "      <td>7.794177</td>\n",
       "      <td>18.457405</td>\n",
       "      <td>8.130633</td>\n",
       "      <td>39.900949</td>\n",
       "      <td>71.284671</td>\n",
       "    </tr>\n",
       "    <tr>\n",
       "      <th>std</th>\n",
       "      <td>7.615691</td>\n",
       "      <td>4.471417</td>\n",
       "      <td>3.503487</td>\n",
       "      <td>9.677095</td>\n",
       "      <td>1.793474</td>\n",
       "      <td>8.639217</td>\n",
       "      <td>37.229540</td>\n",
       "    </tr>\n",
       "    <tr>\n",
       "      <th>min</th>\n",
       "      <td>4.000000</td>\n",
       "      <td>0.330000</td>\n",
       "      <td>0.590000</td>\n",
       "      <td>0.660000</td>\n",
       "      <td>2.790000</td>\n",
       "      <td>17.700000</td>\n",
       "      <td>2.329000</td>\n",
       "    </tr>\n",
       "    <tr>\n",
       "      <th>25%</th>\n",
       "      <td>10.000000</td>\n",
       "      <td>6.132500</td>\n",
       "      <td>5.480000</td>\n",
       "      <td>12.535000</td>\n",
       "      <td>7.100000</td>\n",
       "      <td>34.570000</td>\n",
       "      <td>46.013000</td>\n",
       "    </tr>\n",
       "    <tr>\n",
       "      <th>50%</th>\n",
       "      <td>14.000000</td>\n",
       "      <td>9.570000</td>\n",
       "      <td>8.150000</td>\n",
       "      <td>19.500000</td>\n",
       "      <td>8.555000</td>\n",
       "      <td>39.085000</td>\n",
       "      <td>71.899000</td>\n",
       "    </tr>\n",
       "    <tr>\n",
       "      <th>75%</th>\n",
       "      <td>20.000000</td>\n",
       "      <td>10.885000</td>\n",
       "      <td>9.990000</td>\n",
       "      <td>24.845000</td>\n",
       "      <td>9.510000</td>\n",
       "      <td>44.185000</td>\n",
       "      <td>90.772500</td>\n",
       "    </tr>\n",
       "    <tr>\n",
       "      <th>max</th>\n",
       "      <td>48.000000</td>\n",
       "      <td>27.000000</td>\n",
       "      <td>21.000000</td>\n",
       "      <td>54.000000</td>\n",
       "      <td>11.820000</td>\n",
       "      <td>71.430000</td>\n",
       "      <td>220.000000</td>\n",
       "    </tr>\n",
       "  </tbody>\n",
       "</table>\n",
       "</div>"
      ],
      "text/plain": [
       "              Age      cabins        crew  passengers      length  \\\n",
       "count  158.000000  158.000000  158.000000  158.000000  158.000000   \n",
       "mean    15.689873    8.830000    7.794177   18.457405    8.130633   \n",
       "std      7.615691    4.471417    3.503487    9.677095    1.793474   \n",
       "min      4.000000    0.330000    0.590000    0.660000    2.790000   \n",
       "25%     10.000000    6.132500    5.480000   12.535000    7.100000   \n",
       "50%     14.000000    9.570000    8.150000   19.500000    8.555000   \n",
       "75%     20.000000   10.885000    9.990000   24.845000    9.510000   \n",
       "max     48.000000   27.000000   21.000000   54.000000   11.820000   \n",
       "\n",
       "       passenger_density  gross_tonnage  \n",
       "count         158.000000     158.000000  \n",
       "mean           39.900949      71.284671  \n",
       "std             8.639217      37.229540  \n",
       "min            17.700000       2.329000  \n",
       "25%            34.570000      46.013000  \n",
       "50%            39.085000      71.899000  \n",
       "75%            44.185000      90.772500  \n",
       "max            71.430000     220.000000  "
      ]
     },
     "execution_count": 10,
     "metadata": {},
     "output_type": "execute_result"
    }
   ],
   "source": [
    "# More information in numbers of the numeric columns. 'Name' is excluded \n",
    "data.describe()"
   ]
  },
  {
   "cell_type": "markdown",
   "metadata": {},
   "source": [
    "## Part 1b: prepare the data \n",
    "Before I'll split into train, validation and test set, I have to prepare some features. As we can see in the data, there are numeric features as well as object features. \n",
    "\n",
    "One of the features is the name of the ship. Assuming the name is not of importance to the prediction of the gross tonnage, we can leave this feature out of the data. \n",
    "\n",
    "Another feature is the \"Cruise_line\". This might be an important feature, but we do not know that now. "
   ]
  },
  {
   "cell_type": "code",
   "execution_count": 36,
   "metadata": {},
   "outputs": [],
   "source": [
    "data = data.drop(columns = ['Ship_name']).copy()"
   ]
  },
  {
   "cell_type": "code",
   "execution_count": 37,
   "metadata": {},
   "outputs": [
    {
     "data": {
      "text/plain": [
       "20"
      ]
     },
     "execution_count": 37,
     "metadata": {},
     "output_type": "execute_result"
    }
   ],
   "source": [
    "data[\"Cruise_line\"].unique()\n",
    "len(data[\"Cruise_line\"].unique()) "
   ]
  },
  {
   "cell_type": "markdown",
   "metadata": {},
   "source": [
    "There are 20 unique values for \"Cruise_line\". I will make this categorical using Label Encoding. This makes it easier for the model to handle, however it will lose some form of meaning. "
   ]
  },
  {
   "cell_type": "code",
   "execution_count": 38,
   "metadata": {},
   "outputs": [],
   "source": [
    "data['Cruise_line'] = data.Cruise_line.astype('category').cat.codes\n"
   ]
  },
  {
   "cell_type": "code",
   "execution_count": 39,
   "metadata": {},
   "outputs": [
    {
     "data": {
      "text/plain": [
       "<bound method NDFrame.head of      Cruise_line  Age  cabins   crew  passengers  length  passenger_density  \\\n",
       "0              0    6    3.55   3.55        6.94    5.94              42.64   \n",
       "1              0    6    3.55   3.55        6.94    5.94              42.64   \n",
       "2              1   26    7.43   6.70       14.86    7.22              31.80   \n",
       "3              1   11   14.88  19.10       29.74    9.53              36.99   \n",
       "4              1   17   13.21  10.00       26.42    8.92              38.36   \n",
       "..           ...  ...     ...    ...         ...     ...                ...   \n",
       "153           18   22    0.33   0.59        0.66    2.79              50.62   \n",
       "154           18   14    9.67  12.00       19.60    8.79              39.18   \n",
       "155           19   25    0.74   0.88        1.58    4.40              33.86   \n",
       "156           19   27    0.74   0.88        1.67    4.40              32.04   \n",
       "157           19   23    1.56   1.80        3.08    6.17              47.87   \n",
       "\n",
       "     gross_tonnage  \n",
       "0           30.277  \n",
       "1           30.277  \n",
       "2           47.262  \n",
       "3          110.000  \n",
       "4          101.353  \n",
       "..             ...  \n",
       "153          3.341  \n",
       "154         76.800  \n",
       "155          5.350  \n",
       "156          5.350  \n",
       "157         14.745  \n",
       "\n",
       "[158 rows x 8 columns]>"
      ]
     },
     "execution_count": 39,
     "metadata": {},
     "output_type": "execute_result"
    }
   ],
   "source": [
    "data.head"
   ]
  },
  {
   "cell_type": "markdown",
   "metadata": {},
   "source": [
    "## Part 2: split into train, validation and test set\n",
    "Train and test split as the usual practice, and addition of the validation set for the hyperparameter tuning. I opted for a small validation and test set, as the dataset has only 157 rows with data. \n",
    "\n",
    "Even though not completely necessary in a notebook, I've created a small function to return train, val and test set easily. "
   ]
  },
  {
   "cell_type": "code",
   "execution_count": 40,
   "metadata": {},
   "outputs": [],
   "source": [
    "\n",
    "def getTrainValTest(X, y, train_part, val_part):\n",
    "\n",
    "    X_train, X_rest, y_train, y_rest = train_test_split(X,y, train_size=train_part)\n",
    "\n",
    "    test_part = 1 - train_part - val_part\n",
    "\n",
    "    X_val, X_test, y_val, y_test = train_test_split(X_rest,y_rest, test_size=test_part)\n",
    "\n",
    "    return X_train, y_train, X_val, y_val, X_test, y_test"
   ]
  },
  {
   "cell_type": "code",
   "execution_count": 43,
   "metadata": {},
   "outputs": [],
   "source": [
    "X = data.drop(columns = ['gross_tonnage']).copy()\n",
    "y = data['gross_tonnage']\n",
    "\n",
    "X_train, y_train, X_val, y_val, X_test, y_test = getTrainValTest(X,y, 0.8, 0.1)"
   ]
  },
  {
   "cell_type": "markdown",
   "metadata": {},
   "source": [
    "## Part 3: find feature importance \n",
    "From the given list of columns, not all features will be equally important. Keeping all features might result in overfitting, which is why some features are not taken into account for the training of the classifier. \n",
    "\n",
    "First we try to get a baseline by using all features and then use a function to calculate their feature importance"
   ]
  },
  {
   "cell_type": "code",
   "execution_count": 44,
   "metadata": {},
   "outputs": [
    {
     "name": "stdout",
     "output_type": "stream",
     "text": [
      "Feature: 0, Score: 0.00200\n",
      "Feature: 1, Score: 0.01204\n",
      "Feature: 2, Score: 0.30174\n",
      "Feature: 3, Score: 0.13455\n",
      "Feature: 4, Score: 0.05335\n",
      "Feature: 5, Score: 0.49337\n",
      "Feature: 6, Score: 0.00294\n"
     ]
    },
    {
     "data": {
      "image/png": "[encoded data removed]",
      "text/plain": [
       "<Figure size 432x288 with 1 Axes>"
      ]
     },
     "metadata": {
      "needs_background": "light"
     },
     "output_type": "display_data"
    }
   ],
   "source": [
    "from sklearn.ensemble import RandomForestRegressor\n",
    "from matplotlib import pyplot\n",
    "\n",
    "model = RandomForestRegressor()\n",
    "\n",
    "model.fit(X_train, y_train)\n",
    "importance = model.feature_importances_\n",
    "\n",
    "for i,v in enumerate(importance):\n",
    "\tprint('Feature: %0d, Score: %.5f' % (i,v))\n",
    "\n",
    "pyplot.bar([x for x in range(len(importance))], importance)\n",
    "pyplot.show()"
   ]
  },
  {
   "cell_type": "code",
   "execution_count": 59,
   "metadata": {},
   "outputs": [
    {
     "data": {
      "text/plain": [
       "<AxesSubplot:>"
      ]
     },
     "execution_count": 59,
     "metadata": {},
     "output_type": "execute_result"
    },
    {
     "data": {
      "image/png": "[encoded data removed]",
      "text/plain": [
       "<Figure size 432x288 with 1 Axes>"
      ]
     },
     "metadata": {
      "needs_background": "light"
     },
     "output_type": "display_data"
    }
   ],
   "source": [
    "from sklearn.svm import SVR  \n",
    "\n",
    "model = SVR(kernel = 'linear')\n",
    "\n",
    "model.fit(X_train, y_train)\n",
    "\n",
    "\n",
    "pd.Series(abs(model.coef_[0]), index=X_train.columns).nlargest(10).plot(kind='barh')\n",
    "\n",
    "\n"
   ]
  }
 ],
 "metadata": {
  "interpreter": {
   "hash": "810c3cea8ecd37a42d1c099cfb4835b3206c99d90dfa161a9a30fa0ee2de1394"
  },
  "kernelspec": {
   "display_name": "Python 3.10.1 64-bit ('ddg': conda)",
   "language": "python",
   "name": "python3"
  },
  "language_info": {
   "codemirror_mode": {
    "name": "ipython",
    "version": 3
   },
   "file_extension": ".py",
   "mimetype": "text/x-python",
   "name": "python",
   "nbconvert_exporter": "python",
   "pygments_lexer": "ipython3",
   "version": "3.10.1"
  },
  "orig_nbformat": 4
 },
 "nbformat": 4,
 "nbformat_minor": 2
}
